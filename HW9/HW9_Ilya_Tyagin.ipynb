{
  "nbformat": 4,
  "nbformat_minor": 0,
  "metadata": {
    "colab": {
      "name": "HW9_Ilya_Tyagin.ipynb",
      "provenance": [],
      "toc_visible": true,
      "collapsed_sections": [],
      "authorship_tag": "ABX9TyMzC+vORKfkO35oQ5uwxv1W",
      "include_colab_link": true
    },
    "kernelspec": {
      "name": "python3",
      "display_name": "Python 3"
    },
    "language_info": {
      "name": "python"
    }
  },
  "cells": [
    {
      "cell_type": "markdown",
      "metadata": {
        "id": "view-in-github",
        "colab_type": "text"
      },
      "source": [
        "<a href=\"https://colab.research.google.com/github/IlyaTyagin/AGATHA-C-GP/blob/master/HW9/HW9_Ilya_Tyagin.ipynb\" target=\"_parent\"><img src=\"https://colab.research.google.com/assets/colab-badge.svg\" alt=\"Open In Colab\"/></a>"
      ]
    },
    {
      "cell_type": "markdown",
      "source": [
        "# HW9 Ilya Tyagin"
      ],
      "metadata": {
        "id": "uenga1221eh9"
      }
    },
    {
      "cell_type": "code",
      "source": [
        "import pandas as pd\n",
        "import numpy as np\n",
        "import pylab as pl\n",
        "import random\n",
        "from scipy import stats\n",
        "from tqdm import tqdm\n",
        "from collections import defaultdict\n",
        "import pickle\n",
        "\n",
        "from scipy import interpolate\n",
        "\n",
        "import keras\n",
        "from keras.datasets import mnist\n",
        "from keras.models import Sequential\n",
        "from keras.layers import Dense#, Dropout, Flatten\n",
        "#from keras.layers import Conv2D, MaxPooling2D\n",
        "from keras import backend as K\n",
        "import glob\n",
        "import pylab as pl\n",
        "from PIL import Image\n",
        "\n",
        "tqdm.pandas()\n",
        "\n",
        "%pylab inline"
      ],
      "metadata": {
        "colab": {
          "base_uri": "https://localhost:8080/"
        },
        "id": "Hw6QWCM21dbZ",
        "outputId": "6c0d2b56-8b43-47dd-cc2c-7be8a7414345"
      },
      "execution_count": null,
      "outputs": [
        {
          "output_type": "stream",
          "name": "stdout",
          "text": [
            "Populating the interactive namespace from numpy and matplotlib\n"
          ]
        },
        {
          "output_type": "stream",
          "name": "stderr",
          "text": [
            "/usr/local/lib/python3.7/dist-packages/IPython/core/magics/pylab.py:161: UserWarning: pylab import has clobbered these variables: ['random']\n",
            "`%matplotlib` prevents importing * from pylab and numpy\n",
            "  \"\\n`%matplotlib` prevents importing * from pylab and numpy\"\n"
          ]
        }
      ]
    },
    {
      "cell_type": "code",
      "source": [
        "from google.colab import drive\n",
        "drive.mount('/content/drive')"
      ],
      "metadata": {
        "colab": {
          "base_uri": "https://localhost:8080/"
        },
        "id": "1ud5uEdpTfwx",
        "outputId": "6f8cf236-b87c-44aa-e431-6c0620b34d1e"
      },
      "execution_count": null,
      "outputs": [
        {
          "output_type": "stream",
          "name": "stdout",
          "text": [
            "Mounted at /content/drive\n"
          ]
        }
      ]
    },
    {
      "cell_type": "code",
      "source": [
        "pl.rcParams['figure.figsize'] = (15, 10)"
      ],
      "metadata": {
        "id": "lmNELTH11kvy"
      },
      "execution_count": null,
      "outputs": []
    },
    {
      "cell_type": "markdown",
      "source": [
        "## Autoencoder\n",
        "\n",
        "I'm using the simplest architecture, which was proposed for MNIST digits: https://github.com/fedhere/MLTSA22_FBianco/blob/main/CodeExamples/autoencoder_digits.ipynb"
      ],
      "metadata": {
        "id": "xBYblV57wL9q"
      }
    },
    {
      "cell_type": "code",
      "source": [
        "all_autoenc_data = np.load(\n",
        "    '/content/drive/MyDrive/Classes/22S-PHYS-667/HW8/all_autoenc_data.npy'\n",
        ")"
      ],
      "metadata": {
        "id": "LEXn31He1SPu"
      },
      "execution_count": null,
      "outputs": []
    },
    {
      "cell_type": "code",
      "source": [
        "# we'll use the majority of our data for training\n",
        "# and only 5% for test (just for the reference)\n",
        "\n",
        "split_percent = 0.95"
      ],
      "metadata": {
        "id": "2_gU5m70zW3K"
      },
      "execution_count": null,
      "outputs": []
    },
    {
      "cell_type": "code",
      "source": [
        "split_idx = int(all_autoenc_data.shape[0]*split_percent)\n",
        "x_train = all_autoenc_data[:split_idx]\n",
        "x_test = all_autoenc_data[split_idx:]\n",
        "\n",
        "x_train.shape, x_test.shape"
      ],
      "metadata": {
        "colab": {
          "base_uri": "https://localhost:8080/"
        },
        "id": "hukjhmU_zlcF",
        "outputId": "4501c586-2400-4b54-e339-b13bedf31f56"
      },
      "execution_count": null,
      "outputs": [
        {
          "output_type": "execute_result",
          "data": {
            "text/plain": [
              "((7436, 3006), (392, 3006))"
            ]
          },
          "metadata": {},
          "execution_count": 78
        }
      ]
    },
    {
      "cell_type": "code",
      "source": [
        "plt.plot(x_train[400])"
      ],
      "metadata": {
        "colab": {
          "base_uri": "https://localhost:8080/",
          "height": 533
        },
        "id": "1Tpc8Y8I8zji",
        "outputId": "7f3f1809-aca2-42a2-ec4f-664c85dc74ee"
      },
      "execution_count": null,
      "outputs": [
        {
          "output_type": "execute_result",
          "data": {
            "text/plain": [
              "[<matplotlib.lines.Line2D at 0x7f469da29dd0>]"
            ]
          },
          "metadata": {},
          "execution_count": 79
        },
        {
          "output_type": "display_data",
          "data": {
            "text/plain": [
              "<Figure size 1080x720 with 1 Axes>"
            ],
            "image/png": "[encoded data removed]"
          },
          "metadata": {
            "needs_background": "light"
          }
        }
      ]
    },
    {
      "cell_type": "code",
      "source": [
        "ndim = all_autoenc_data.shape[1]\n",
        "ndim"
      ],
      "metadata": {
        "colab": {
          "base_uri": "https://localhost:8080/"
        },
        "id": "WblHTt6pw2J4",
        "outputId": "e931fbaa-faec-49ef-aefb-378482d16d82"
      },
      "execution_count": null,
      "outputs": [
        {
          "output_type": "execute_result",
          "data": {
            "text/plain": [
              "3006"
            ]
          },
          "metadata": {},
          "execution_count": 80
        }
      ]
    },
    {
      "cell_type": "code",
      "source": [
        "model_autoenc = Sequential()\n",
        "## encoder\n",
        "# input layer and the output size\n",
        "model_autoenc.add(Dense(128, activation='relu', input_dim=ndim))\n",
        "#compression layer\n",
        "model_autoenc.add(Dense(64, activation='relu'))\n",
        "## deencoder\n",
        "#decompression layer, same size as in the encoder\n",
        "model_autoenc.add(Dense(128, activation='relu'))\n",
        "#output layer, same size as input\n",
        "model_autoenc.add(Dense(ndim, activation='linear'))"
      ],
      "metadata": {
        "id": "4-C92UOxwMRh"
      },
      "execution_count": null,
      "outputs": []
    },
    {
      "cell_type": "code",
      "source": [
        "model_autoenc.compile(optimizer=\"adadelta\", loss=\"mean_squared_error\")"
      ],
      "metadata": {
        "id": "Vwa1s3xQZKPB"
      },
      "execution_count": null,
      "outputs": []
    },
    {
      "cell_type": "code",
      "source": [
        "print(model_autoenc.summary())"
      ],
      "metadata": {
        "colab": {
          "base_uri": "https://localhost:8080/"
        },
        "id": "NJN2XGHtwn5B",
        "outputId": "c13440de-e8d1-4a95-8c27-ffeb145aa084"
      },
      "execution_count": null,
      "outputs": [
        {
          "output_type": "stream",
          "name": "stdout",
          "text": [
            "Model: \"sequential_3\"\n",
            "_________________________________________________________________\n",
            " Layer (type)                Output Shape              Param #   \n",
            "=================================================================\n",
            " dense_12 (Dense)            (None, 128)               384896    \n",
            "                                                                 \n",
            " dense_13 (Dense)            (None, 64)                8256      \n",
            "                                                                 \n",
            " dense_14 (Dense)            (None, 128)               8320      \n",
            "                                                                 \n",
            " dense_15 (Dense)            (None, 3006)              387774    \n",
            "                                                                 \n",
            "=================================================================\n",
            "Total params: 789,246\n",
            "Trainable params: 789,246\n",
            "Non-trainable params: 0\n",
            "_________________________________________________________________\n",
            "None\n"
          ]
        }
      ]
    },
    {
      "cell_type": "code",
      "source": [
        "model_autoenc.optimizer.learning_rate = 0.1"
      ],
      "metadata": {
        "id": "Q-rakBhRbTQT"
      },
      "execution_count": null,
      "outputs": []
    },
    {
      "cell_type": "code",
      "source": [
        "history_autoenc = model_autoenc.fit(x_train, x_train, \n",
        "                               validation_data=(x_test, x_test),\n",
        "                               epochs=200, batch_size=100, verbose=1)"
      ],
      "metadata": {
        "colab": {
          "base_uri": "https://localhost:8080/"
        },
        "id": "o_19kl0MzJNX",
        "outputId": "fe161427-46af-4301-ceee-6c1b8cf3da44"
      },
      "execution_count": null,
      "outputs": [
        {
          "output_type": "stream",
          "name": "stdout",
          "text": [
            "Epoch 1/200\n",
            "75/75 [==============================] - 1s 8ms/step - loss: 107601.8047 - val_loss: 6851.0645\n",
            "Epoch 2/200\n",
            "75/75 [==============================] - 0s 6ms/step - loss: 106758.7344 - val_loss: 6694.9326\n",
            "Epoch 3/200\n",
            "75/75 [==============================] - 0s 6ms/step - loss: 106261.5234 - val_loss: 6397.1143\n",
            "Epoch 4/200\n",
            "75/75 [==============================] - 0s 6ms/step - loss: 105772.9453 - val_loss: 6333.9629\n",
            "Epoch 5/200\n",
            "75/75 [==============================] - 0s 6ms/step - loss: 105242.3203 - val_loss: 6281.0913\n",
            "Epoch 6/200\n",
            "75/75 [==============================] - 1s 8ms/step - loss: 104671.4062 - val_loss: 6246.3174\n",
            "Epoch 7/200\n",
            "75/75 [==============================] - 1s 8ms/step - loss: 104074.1641 - val_loss: 6208.9058\n",
            "Epoch 8/200\n",
            "75/75 [==============================] - 1s 7ms/step - loss: 103402.4844 - val_loss: 6171.4434\n",
            "Epoch 9/200\n",
            "75/75 [==============================] - 1s 8ms/step - loss: 102644.3281 - val_loss: 6124.7915\n",
            "Epoch 10/200\n",
            "75/75 [==============================] - 1s 8ms/step - loss: 101841.4688 - val_loss: 6084.1587\n",
            "Epoch 11/200\n",
            "75/75 [==============================] - 1s 8ms/step - loss: 100941.7422 - val_loss: 6031.8003\n",
            "Epoch 12/200\n",
            "75/75 [==============================] - 1s 9ms/step - loss: 100015.8125 - val_loss: 5980.5171\n",
            "Epoch 13/200\n",
            "75/75 [==============================] - 1s 9ms/step - loss: 98786.5859 - val_loss: 5918.3750\n",
            "Epoch 14/200\n",
            "75/75 [==============================] - 1s 9ms/step - loss: 97784.6406 - val_loss: 5869.7246\n",
            "Epoch 15/200\n",
            "75/75 [==============================] - 1s 9ms/step - loss: 96523.0391 - val_loss: 5807.8145\n",
            "Epoch 16/200\n",
            "75/75 [==============================] - 1s 8ms/step - loss: 95234.7656 - val_loss: 5748.3291\n",
            "Epoch 17/200\n",
            "75/75 [==============================] - 1s 7ms/step - loss: 93936.5781 - val_loss: 5690.1211\n",
            "Epoch 18/200\n",
            "75/75 [==============================] - 1s 9ms/step - loss: 92502.4297 - val_loss: 5621.3091\n",
            "Epoch 19/200\n",
            "75/75 [==============================] - 1s 9ms/step - loss: 91106.9375 - val_loss: 5558.8398\n",
            "Epoch 20/200\n",
            "75/75 [==============================] - 1s 10ms/step - loss: 89619.7109 - val_loss: 5485.1733\n",
            "Epoch 21/200\n",
            "75/75 [==============================] - 1s 10ms/step - loss: 88068.6641 - val_loss: 5415.5518\n",
            "Epoch 22/200\n",
            "75/75 [==============================] - 1s 10ms/step - loss: 86436.4375 - val_loss: 5337.3457\n",
            "Epoch 23/200\n",
            "75/75 [==============================] - 1s 9ms/step - loss: 84763.1406 - val_loss: 5259.8315\n",
            "Epoch 24/200\n",
            "75/75 [==============================] - 1s 10ms/step - loss: 83024.1797 - val_loss: 5176.6797\n",
            "Epoch 25/200\n",
            "75/75 [==============================] - 1s 14ms/step - loss: 81306.6406 - val_loss: 5095.7183\n",
            "Epoch 26/200\n",
            "75/75 [==============================] - 1s 10ms/step - loss: 79304.0234 - val_loss: 4999.9849\n",
            "Epoch 27/200\n",
            "75/75 [==============================] - 1s 7ms/step - loss: 77313.7578 - val_loss: 4905.7505\n",
            "Epoch 28/200\n",
            "75/75 [==============================] - 1s 8ms/step - loss: 75365.7578 - val_loss: 4813.4976\n",
            "Epoch 29/200\n",
            "75/75 [==============================] - 1s 7ms/step - loss: 72947.1094 - val_loss: 4684.4482\n",
            "Epoch 30/200\n",
            "75/75 [==============================] - 1s 10ms/step - loss: 70866.7266 - val_loss: 4593.6768\n",
            "Epoch 31/200\n",
            "75/75 [==============================] - 1s 12ms/step - loss: 68802.9453 - val_loss: 4496.2251\n",
            "Epoch 32/200\n",
            "75/75 [==============================] - 1s 10ms/step - loss: 66588.4531 - val_loss: 4393.9326\n",
            "Epoch 33/200\n",
            "75/75 [==============================] - 1s 9ms/step - loss: 64442.4609 - val_loss: 4296.5044\n",
            "Epoch 34/200\n",
            "75/75 [==============================] - 1s 9ms/step - loss: 62418.3125 - val_loss: 4194.2690\n",
            "Epoch 35/200\n",
            "75/75 [==============================] - 1s 10ms/step - loss: 59965.7695 - val_loss: 4073.9592\n",
            "Epoch 36/200\n",
            "75/75 [==============================] - 1s 9ms/step - loss: 57828.1875 - val_loss: 3972.0417\n",
            "Epoch 37/200\n",
            "75/75 [==============================] - 1s 8ms/step - loss: 55607.7812 - val_loss: 3865.2947\n",
            "Epoch 38/200\n",
            "75/75 [==============================] - 1s 7ms/step - loss: 53512.9336 - val_loss: 3770.3845\n",
            "Epoch 39/200\n",
            "75/75 [==============================] - 1s 9ms/step - loss: 51373.4258 - val_loss: 3658.9426\n",
            "Epoch 40/200\n",
            "75/75 [==============================] - 1s 8ms/step - loss: 48897.6680 - val_loss: 3523.2595\n",
            "Epoch 41/200\n",
            "75/75 [==============================] - 1s 8ms/step - loss: 46781.3477 - val_loss: 3418.1440\n",
            "Epoch 42/200\n",
            "75/75 [==============================] - 1s 8ms/step - loss: 44568.4531 - val_loss: 3297.9094\n",
            "Epoch 43/200\n",
            "75/75 [==============================] - 0s 6ms/step - loss: 42512.2617 - val_loss: 3196.9009\n",
            "Epoch 44/200\n",
            "75/75 [==============================] - 0s 6ms/step - loss: 40181.2188 - val_loss: 3081.2788\n",
            "Epoch 45/200\n",
            "75/75 [==============================] - 0s 6ms/step - loss: 37976.5859 - val_loss: 2976.8035\n",
            "Epoch 46/200\n",
            "75/75 [==============================] - 0s 6ms/step - loss: 35993.7422 - val_loss: 2869.5913\n",
            "Epoch 47/200\n",
            "75/75 [==============================] - 0s 6ms/step - loss: 33875.8711 - val_loss: 2751.6560\n",
            "Epoch 48/200\n",
            "75/75 [==============================] - 0s 6ms/step - loss: 31854.3438 - val_loss: 2664.2229\n",
            "Epoch 49/200\n",
            "75/75 [==============================] - 0s 6ms/step - loss: 29791.7168 - val_loss: 2546.9087\n",
            "Epoch 50/200\n",
            "75/75 [==============================] - 0s 6ms/step - loss: 27833.8887 - val_loss: 2453.9478\n",
            "Epoch 51/200\n",
            "75/75 [==============================] - 0s 6ms/step - loss: 26037.4863 - val_loss: 2366.4868\n",
            "Epoch 52/200\n",
            "75/75 [==============================] - 0s 6ms/step - loss: 23927.4062 - val_loss: 2255.4519\n",
            "Epoch 53/200\n",
            "75/75 [==============================] - 0s 6ms/step - loss: 22126.8008 - val_loss: 2169.0361\n",
            "Epoch 54/200\n",
            "75/75 [==============================] - 0s 6ms/step - loss: 20394.7539 - val_loss: 2088.6357\n",
            "Epoch 55/200\n",
            "75/75 [==============================] - 0s 6ms/step - loss: 18790.0586 - val_loss: 2007.7214\n",
            "Epoch 56/200\n",
            "75/75 [==============================] - 0s 6ms/step - loss: 17044.7734 - val_loss: 1926.8280\n",
            "Epoch 57/200\n",
            "75/75 [==============================] - 0s 6ms/step - loss: 15417.6016 - val_loss: 1856.8514\n",
            "Epoch 58/200\n",
            "75/75 [==============================] - 0s 6ms/step - loss: 14205.8066 - val_loss: 1792.1750\n",
            "Epoch 59/200\n",
            "75/75 [==============================] - 0s 6ms/step - loss: 12902.7129 - val_loss: 1743.5980\n",
            "Epoch 60/200\n",
            "75/75 [==============================] - 0s 6ms/step - loss: 11777.1328 - val_loss: 1693.8875\n",
            "Epoch 61/200\n",
            "75/75 [==============================] - 0s 6ms/step - loss: 10563.8555 - val_loss: 1634.9746\n",
            "Epoch 62/200\n",
            "75/75 [==============================] - 0s 6ms/step - loss: 9440.1240 - val_loss: 1595.8182\n",
            "Epoch 63/200\n",
            "75/75 [==============================] - 0s 6ms/step - loss: 8628.8691 - val_loss: 1561.4786\n",
            "Epoch 64/200\n",
            "75/75 [==============================] - 0s 6ms/step - loss: 7713.0107 - val_loss: 1533.0933\n",
            "Epoch 65/200\n",
            "75/75 [==============================] - 0s 6ms/step - loss: 7000.0664 - val_loss: 1502.9434\n",
            "Epoch 66/200\n",
            "75/75 [==============================] - 0s 6ms/step - loss: 6361.4658 - val_loss: 1479.7368\n",
            "Epoch 67/200\n",
            "75/75 [==============================] - 0s 6ms/step - loss: 5629.3018 - val_loss: 1467.8964\n",
            "Epoch 68/200\n",
            "75/75 [==============================] - 0s 7ms/step - loss: 5173.2227 - val_loss: 1446.9579\n",
            "Epoch 69/200\n",
            "75/75 [==============================] - 0s 6ms/step - loss: 4690.6934 - val_loss: 1434.2589\n",
            "Epoch 70/200\n",
            "75/75 [==============================] - 0s 6ms/step - loss: 4353.1328 - val_loss: 1415.2080\n",
            "Epoch 71/200\n",
            "75/75 [==============================] - 0s 6ms/step - loss: 4015.0557 - val_loss: 1405.7504\n",
            "Epoch 72/200\n",
            "75/75 [==============================] - 0s 6ms/step - loss: 3769.6995 - val_loss: 1416.5067\n",
            "Epoch 73/200\n",
            "75/75 [==============================] - 0s 6ms/step - loss: 3510.4297 - val_loss: 1398.1333\n",
            "Epoch 74/200\n",
            "75/75 [==============================] - 0s 6ms/step - loss: 3299.7483 - val_loss: 1388.7811\n",
            "Epoch 75/200\n",
            "75/75 [==============================] - 0s 6ms/step - loss: 3189.8936 - val_loss: 1376.5874\n",
            "Epoch 76/200\n",
            "75/75 [==============================] - 0s 6ms/step - loss: 3086.0415 - val_loss: 1364.9601\n",
            "Epoch 77/200\n",
            "75/75 [==============================] - 0s 6ms/step - loss: 2936.7234 - val_loss: 1370.8556\n",
            "Epoch 78/200\n",
            "75/75 [==============================] - 0s 6ms/step - loss: 2891.5095 - val_loss: 1354.3696\n",
            "Epoch 79/200\n",
            "75/75 [==============================] - 0s 6ms/step - loss: 2718.5962 - val_loss: 1352.6864\n",
            "Epoch 80/200\n",
            "75/75 [==============================] - 0s 6ms/step - loss: 2662.2930 - val_loss: 1351.5928\n",
            "Epoch 81/200\n",
            "75/75 [==============================] - 0s 6ms/step - loss: 2606.1455 - val_loss: 1341.5911\n",
            "Epoch 82/200\n",
            "75/75 [==============================] - 0s 6ms/step - loss: 2527.2551 - val_loss: 1343.7747\n",
            "Epoch 83/200\n",
            "75/75 [==============================] - 0s 6ms/step - loss: 2507.0286 - val_loss: 1361.0477\n",
            "Epoch 84/200\n",
            "75/75 [==============================] - 0s 6ms/step - loss: 2398.2136 - val_loss: 1362.5306\n",
            "Epoch 85/200\n",
            "75/75 [==============================] - 0s 6ms/step - loss: 2466.6282 - val_loss: 1346.1204\n",
            "Epoch 86/200\n",
            "75/75 [==============================] - 0s 6ms/step - loss: 2408.5168 - val_loss: 1330.6569\n",
            "Epoch 87/200\n",
            "75/75 [==============================] - 0s 6ms/step - loss: 2399.4104 - val_loss: 1327.5043\n",
            "Epoch 88/200\n",
            "75/75 [==============================] - 0s 6ms/step - loss: 2275.2312 - val_loss: 1319.3999\n",
            "Epoch 89/200\n",
            "75/75 [==============================] - 0s 6ms/step - loss: 2232.3853 - val_loss: 1331.8407\n",
            "Epoch 90/200\n",
            "75/75 [==============================] - 0s 6ms/step - loss: 2337.6580 - val_loss: 1332.8146\n",
            "Epoch 91/200\n",
            "75/75 [==============================] - 0s 6ms/step - loss: 2232.5166 - val_loss: 1323.4285\n",
            "Epoch 92/200\n",
            "75/75 [==============================] - 0s 6ms/step - loss: 2186.1838 - val_loss: 1324.7196\n",
            "Epoch 93/200\n",
            "75/75 [==============================] - 0s 6ms/step - loss: 2200.3469 - val_loss: 1335.3115\n",
            "Epoch 94/200\n",
            "75/75 [==============================] - 0s 6ms/step - loss: 2226.3064 - val_loss: 1322.7491\n",
            "Epoch 95/200\n",
            "75/75 [==============================] - 0s 6ms/step - loss: 2089.2385 - val_loss: 1318.3588\n",
            "Epoch 96/200\n",
            "75/75 [==============================] - 0s 6ms/step - loss: 2074.2180 - val_loss: 1320.0365\n",
            "Epoch 97/200\n",
            "75/75 [==============================] - 0s 6ms/step - loss: 2113.4324 - val_loss: 1313.1998\n",
            "Epoch 98/200\n",
            "75/75 [==============================] - 0s 6ms/step - loss: 2057.9768 - val_loss: 1296.7795\n",
            "Epoch 99/200\n",
            "75/75 [==============================] - 0s 6ms/step - loss: 2080.5652 - val_loss: 1301.6094\n",
            "Epoch 100/200\n",
            "75/75 [==============================] - 0s 6ms/step - loss: 2063.9690 - val_loss: 1291.7537\n",
            "Epoch 101/200\n",
            "75/75 [==============================] - 0s 6ms/step - loss: 1983.1323 - val_loss: 1299.6984\n",
            "Epoch 102/200\n",
            "75/75 [==============================] - 0s 6ms/step - loss: 1995.0637 - val_loss: 1320.5225\n",
            "Epoch 103/200\n",
            "75/75 [==============================] - 0s 6ms/step - loss: 2079.8982 - val_loss: 1285.5750\n",
            "Epoch 104/200\n",
            "75/75 [==============================] - 0s 6ms/step - loss: 2042.8358 - val_loss: 1272.0201\n",
            "Epoch 105/200\n",
            "75/75 [==============================] - 0s 6ms/step - loss: 1894.1362 - val_loss: 1292.0585\n",
            "Epoch 106/200\n",
            "75/75 [==============================] - 0s 6ms/step - loss: 1953.2562 - val_loss: 1266.7380\n",
            "Epoch 107/200\n",
            "75/75 [==============================] - 0s 6ms/step - loss: 1928.8953 - val_loss: 1285.3558\n",
            "Epoch 108/200\n",
            "75/75 [==============================] - 0s 6ms/step - loss: 1936.4183 - val_loss: 1268.2521\n",
            "Epoch 109/200\n",
            "75/75 [==============================] - 0s 6ms/step - loss: 1941.5862 - val_loss: 1291.0393\n",
            "Epoch 110/200\n",
            "75/75 [==============================] - 0s 6ms/step - loss: 1962.2213 - val_loss: 1294.7958\n",
            "Epoch 111/200\n",
            "75/75 [==============================] - 0s 6ms/step - loss: 1980.6172 - val_loss: 1268.5120\n",
            "Epoch 112/200\n",
            "75/75 [==============================] - 0s 6ms/step - loss: 1859.0675 - val_loss: 1283.7858\n",
            "Epoch 113/200\n",
            "75/75 [==============================] - 0s 6ms/step - loss: 1916.0400 - val_loss: 1265.3533\n",
            "Epoch 114/200\n",
            "75/75 [==============================] - 0s 6ms/step - loss: 1870.8890 - val_loss: 1245.8208\n",
            "Epoch 115/200\n",
            "75/75 [==============================] - 0s 6ms/step - loss: 1862.3943 - val_loss: 1259.4131\n",
            "Epoch 116/200\n",
            "75/75 [==============================] - 0s 6ms/step - loss: 1969.9923 - val_loss: 1267.1677\n",
            "Epoch 117/200\n",
            "75/75 [==============================] - 0s 6ms/step - loss: 1918.5054 - val_loss: 1265.2570\n",
            "Epoch 118/200\n",
            "75/75 [==============================] - 0s 6ms/step - loss: 1852.9225 - val_loss: 1255.2168\n",
            "Epoch 119/200\n",
            "75/75 [==============================] - 0s 6ms/step - loss: 1853.0824 - val_loss: 1246.5348\n",
            "Epoch 120/200\n",
            "75/75 [==============================] - 0s 6ms/step - loss: 1846.4164 - val_loss: 1241.2833\n",
            "Epoch 121/200\n",
            "75/75 [==============================] - 0s 6ms/step - loss: 1760.0215 - val_loss: 1239.4248\n",
            "Epoch 122/200\n",
            "75/75 [==============================] - 0s 6ms/step - loss: 1794.2998 - val_loss: 1244.1921\n",
            "Epoch 123/200\n",
            "75/75 [==============================] - 0s 6ms/step - loss: 1759.6080 - val_loss: 1236.4573\n",
            "Epoch 124/200\n",
            "75/75 [==============================] - 0s 6ms/step - loss: 1711.7078 - val_loss: 1239.1437\n",
            "Epoch 125/200\n",
            "75/75 [==============================] - 0s 6ms/step - loss: 1806.2120 - val_loss: 1228.2286\n",
            "Epoch 126/200\n",
            "75/75 [==============================] - 0s 6ms/step - loss: 1693.9014 - val_loss: 1225.2195\n",
            "Epoch 127/200\n",
            "75/75 [==============================] - 0s 6ms/step - loss: 1750.2250 - val_loss: 1243.0718\n",
            "Epoch 128/200\n",
            "75/75 [==============================] - 0s 6ms/step - loss: 1717.3711 - val_loss: 1245.1631\n",
            "Epoch 129/200\n",
            "75/75 [==============================] - 0s 6ms/step - loss: 1709.0852 - val_loss: 1217.6868\n",
            "Epoch 130/200\n",
            "75/75 [==============================] - 0s 6ms/step - loss: 1701.8748 - val_loss: 1205.7988\n",
            "Epoch 131/200\n",
            "75/75 [==============================] - 0s 6ms/step - loss: 1751.4575 - val_loss: 1224.4126\n",
            "Epoch 132/200\n",
            "75/75 [==============================] - 0s 6ms/step - loss: 1683.4432 - val_loss: 1206.5149\n",
            "Epoch 133/200\n",
            "75/75 [==============================] - 0s 6ms/step - loss: 1691.1416 - val_loss: 1211.0151\n",
            "Epoch 134/200\n",
            "75/75 [==============================] - 0s 6ms/step - loss: 1690.0144 - val_loss: 1201.0204\n",
            "Epoch 135/200\n",
            "75/75 [==============================] - 0s 6ms/step - loss: 1718.4324 - val_loss: 1207.8840\n",
            "Epoch 136/200\n",
            "75/75 [==============================] - 0s 6ms/step - loss: 1660.6953 - val_loss: 1206.7546\n",
            "Epoch 137/200\n",
            "75/75 [==============================] - 0s 6ms/step - loss: 1810.6890 - val_loss: 1195.1827\n",
            "Epoch 138/200\n",
            "75/75 [==============================] - 0s 6ms/step - loss: 1619.6686 - val_loss: 1195.8838\n",
            "Epoch 139/200\n",
            "75/75 [==============================] - 0s 6ms/step - loss: 1606.6189 - val_loss: 1177.4047\n",
            "Epoch 140/200\n",
            "75/75 [==============================] - 0s 6ms/step - loss: 1761.4459 - val_loss: 1185.9296\n",
            "Epoch 141/200\n",
            "75/75 [==============================] - 0s 6ms/step - loss: 1534.9669 - val_loss: 1211.8702\n",
            "Epoch 142/200\n",
            "75/75 [==============================] - 0s 6ms/step - loss: 1725.7773 - val_loss: 1203.4371\n",
            "Epoch 143/200\n",
            "75/75 [==============================] - 0s 6ms/step - loss: 1715.7861 - val_loss: 1165.9308\n",
            "Epoch 144/200\n",
            "75/75 [==============================] - 0s 6ms/step - loss: 1583.7797 - val_loss: 1179.8129\n",
            "Epoch 145/200\n",
            "75/75 [==============================] - 0s 6ms/step - loss: 1609.3986 - val_loss: 1174.0217\n",
            "Epoch 146/200\n",
            "75/75 [==============================] - 0s 6ms/step - loss: 1573.5186 - val_loss: 1208.5548\n",
            "Epoch 147/200\n",
            "75/75 [==============================] - 0s 6ms/step - loss: 1629.2747 - val_loss: 1173.8384\n",
            "Epoch 148/200\n",
            "75/75 [==============================] - 0s 6ms/step - loss: 1584.3339 - val_loss: 1181.4194\n",
            "Epoch 149/200\n",
            "75/75 [==============================] - 0s 6ms/step - loss: 1610.7302 - val_loss: 1170.1132\n",
            "Epoch 150/200\n",
            "75/75 [==============================] - 0s 6ms/step - loss: 1557.3098 - val_loss: 1188.2233\n",
            "Epoch 151/200\n",
            "75/75 [==============================] - 0s 6ms/step - loss: 1632.0187 - val_loss: 1156.3839\n",
            "Epoch 152/200\n",
            "75/75 [==============================] - 0s 6ms/step - loss: 1513.9296 - val_loss: 1152.4131\n",
            "Epoch 153/200\n",
            "75/75 [==============================] - 0s 6ms/step - loss: 1530.2603 - val_loss: 1151.3600\n",
            "Epoch 154/200\n",
            "75/75 [==============================] - 0s 6ms/step - loss: 1507.9192 - val_loss: 1154.0941\n",
            "Epoch 155/200\n",
            "75/75 [==============================] - 1s 7ms/step - loss: 1585.3430 - val_loss: 1145.4219\n",
            "Epoch 156/200\n",
            "75/75 [==============================] - 0s 6ms/step - loss: 1540.2795 - val_loss: 1182.3239\n",
            "Epoch 157/200\n",
            "75/75 [==============================] - 0s 7ms/step - loss: 1529.6650 - val_loss: 1138.7434\n",
            "Epoch 158/200\n",
            "75/75 [==============================] - 0s 7ms/step - loss: 1552.3663 - val_loss: 1134.8312\n",
            "Epoch 159/200\n",
            "75/75 [==============================] - 0s 6ms/step - loss: 1492.8864 - val_loss: 1130.4352\n",
            "Epoch 160/200\n",
            "75/75 [==============================] - 0s 6ms/step - loss: 1509.4333 - val_loss: 1126.0452\n",
            "Epoch 161/200\n",
            "75/75 [==============================] - 0s 6ms/step - loss: 1561.4645 - val_loss: 1120.4741\n",
            "Epoch 162/200\n",
            "75/75 [==============================] - 0s 6ms/step - loss: 1447.1008 - val_loss: 1128.2681\n",
            "Epoch 163/200\n",
            "75/75 [==============================] - 0s 6ms/step - loss: 1455.7832 - val_loss: 1146.9231\n",
            "Epoch 164/200\n",
            "75/75 [==============================] - 0s 6ms/step - loss: 1571.3027 - val_loss: 1100.4655\n",
            "Epoch 165/200\n",
            "75/75 [==============================] - 0s 6ms/step - loss: 1433.7346 - val_loss: 1111.4419\n",
            "Epoch 166/200\n",
            "75/75 [==============================] - 0s 6ms/step - loss: 1413.4979 - val_loss: 1106.9601\n",
            "Epoch 167/200\n",
            "75/75 [==============================] - 0s 6ms/step - loss: 1561.2659 - val_loss: 1097.2297\n",
            "Epoch 168/200\n",
            "75/75 [==============================] - 0s 6ms/step - loss: 1430.9574 - val_loss: 1102.5298\n",
            "Epoch 169/200\n",
            "75/75 [==============================] - 0s 6ms/step - loss: 1455.3579 - val_loss: 1113.4410\n",
            "Epoch 170/200\n",
            "75/75 [==============================] - 0s 6ms/step - loss: 1443.8842 - val_loss: 1087.8494\n",
            "Epoch 171/200\n",
            "75/75 [==============================] - 0s 6ms/step - loss: 1439.8859 - val_loss: 1076.2213\n",
            "Epoch 172/200\n",
            "75/75 [==============================] - 0s 6ms/step - loss: 1374.1165 - val_loss: 1077.3347\n",
            "Epoch 173/200\n",
            "75/75 [==============================] - 0s 6ms/step - loss: 1401.3279 - val_loss: 1064.3489\n",
            "Epoch 174/200\n",
            "75/75 [==============================] - 0s 6ms/step - loss: 1363.4329 - val_loss: 1082.2388\n",
            "Epoch 175/200\n",
            "75/75 [==============================] - 0s 7ms/step - loss: 1505.7433 - val_loss: 1050.2275\n",
            "Epoch 176/200\n",
            "75/75 [==============================] - 0s 6ms/step - loss: 1427.0341 - val_loss: 1069.4863\n",
            "Epoch 177/200\n",
            "75/75 [==============================] - 0s 6ms/step - loss: 1407.2008 - val_loss: 1089.5396\n",
            "Epoch 178/200\n",
            "75/75 [==============================] - 0s 6ms/step - loss: 1373.7061 - val_loss: 1086.9381\n",
            "Epoch 179/200\n",
            "75/75 [==============================] - 0s 6ms/step - loss: 1497.4365 - val_loss: 1038.4258\n",
            "Epoch 180/200\n",
            "75/75 [==============================] - 0s 6ms/step - loss: 1407.0868 - val_loss: 1037.9772\n",
            "Epoch 181/200\n",
            "75/75 [==============================] - 0s 6ms/step - loss: 1394.3308 - val_loss: 1074.8894\n",
            "Epoch 182/200\n",
            "75/75 [==============================] - 0s 6ms/step - loss: 1435.5076 - val_loss: 1028.4624\n",
            "Epoch 183/200\n",
            "75/75 [==============================] - 0s 7ms/step - loss: 1319.8114 - val_loss: 1031.2275\n",
            "Epoch 184/200\n",
            "75/75 [==============================] - 0s 6ms/step - loss: 1353.0422 - val_loss: 1070.3359\n",
            "Epoch 185/200\n",
            "75/75 [==============================] - 0s 6ms/step - loss: 1414.3821 - val_loss: 1025.7949\n",
            "Epoch 186/200\n",
            "75/75 [==============================] - 0s 6ms/step - loss: 1331.3947 - val_loss: 1039.0681\n",
            "Epoch 187/200\n",
            "75/75 [==============================] - 0s 6ms/step - loss: 1317.4510 - val_loss: 1041.9801\n",
            "Epoch 188/200\n",
            "75/75 [==============================] - 0s 6ms/step - loss: 1380.0023 - val_loss: 1025.4980\n",
            "Epoch 189/200\n",
            "75/75 [==============================] - 0s 6ms/step - loss: 1310.8148 - val_loss: 1015.1109\n",
            "Epoch 190/200\n",
            "75/75 [==============================] - 0s 6ms/step - loss: 1306.4752 - val_loss: 991.0007\n",
            "Epoch 191/200\n",
            "75/75 [==============================] - 0s 6ms/step - loss: 1362.0242 - val_loss: 1025.7291\n",
            "Epoch 192/200\n",
            "75/75 [==============================] - 0s 6ms/step - loss: 1417.7063 - val_loss: 1005.1549\n",
            "Epoch 193/200\n",
            "75/75 [==============================] - 0s 6ms/step - loss: 1305.5348 - val_loss: 1000.2234\n",
            "Epoch 194/200\n",
            "75/75 [==============================] - 0s 6ms/step - loss: 1305.5778 - val_loss: 982.4664\n",
            "Epoch 195/200\n",
            "75/75 [==============================] - 0s 6ms/step - loss: 1295.9113 - val_loss: 982.0328\n",
            "Epoch 196/200\n",
            "75/75 [==============================] - 0s 6ms/step - loss: 1315.1539 - val_loss: 985.8429\n",
            "Epoch 197/200\n",
            "75/75 [==============================] - 0s 6ms/step - loss: 1293.8199 - val_loss: 956.8701\n",
            "Epoch 198/200\n",
            "75/75 [==============================] - 0s 6ms/step - loss: 1293.8351 - val_loss: 975.1136\n",
            "Epoch 199/200\n",
            "75/75 [==============================] - 0s 6ms/step - loss: 1310.4913 - val_loss: 971.0477\n",
            "Epoch 200/200\n",
            "75/75 [==============================] - 0s 7ms/step - loss: 1233.5900 - val_loss: 968.2847\n"
          ]
        }
      ]
    },
    {
      "cell_type": "code",
      "source": [
        "pl.plot(np.array(history_autoenc.history['loss']))\n",
        "pl.plot(np.array(history_autoenc.history['val_loss']))\n",
        "pl.ylabel('loss')\n",
        "pl.xlabel('iteration')\n",
        "pl.yscale('log')"
      ],
      "metadata": {
        "colab": {
          "base_uri": "https://localhost:8080/",
          "height": 520
        },
        "id": "Wkb_S2SR0_ve",
        "outputId": "f9e9dbd3-5431-4a19-a85a-879e7247c019"
      },
      "execution_count": null,
      "outputs": [
        {
          "output_type": "display_data",
          "data": {
            "text/plain": [
              "<Figure size 1080x720 with 1 Axes>"
            ],
            "image/png": "[encoded data removed]"
          },
          "metadata": {
            "needs_background": "light"
          }
        }
      ]
    },
    {
      "cell_type": "markdown",
      "source": [
        "Plot: Losses for train and validation over time (MSE). Log scale applied to show the the later stages at greater detail. After ~100-ish epoch we're entering the zone of very small improvements, but the loss was still going down. "
      ],
      "metadata": {
        "id": "9bf6JUYRa1JT"
      }
    },
    {
      "cell_type": "code",
      "source": [
        "x_train_pred = model_autoenc.predict(x_train)"
      ],
      "metadata": {
        "id": "0DLlWY9Nd9yd"
      },
      "execution_count": null,
      "outputs": []
    },
    {
      "cell_type": "code",
      "source": [
        "idx = 3033\n",
        "pl.plot(x_train_pred[idx])\n",
        "pl.plot(x_train[idx])\n",
        "pl.xlabel('dim')\n",
        "pl.ylabel('value')\n",
        "print()"
      ],
      "metadata": {
        "colab": {
          "base_uri": "https://localhost:8080/",
          "height": 644
        },
        "id": "JWQYb0HIevuG",
        "outputId": "e2af18db-b8db-46af-ad9e-6f62b9a90e74"
      },
      "execution_count": null,
      "outputs": [
        {
          "output_type": "stream",
          "name": "stdout",
          "text": [
            "\n"
          ]
        },
        {
          "output_type": "display_data",
          "data": {
            "text/plain": [
              "<Figure size 1080x720 with 1 Axes>"
            ],
            "image/png": "[encoded data removed]"
          },
          "metadata": {
            "needs_background": "light"
          }
        }
      ]
    },
    {
      "cell_type": "markdown",
      "source": [
        "Plot: original TS (6 concatenated bands (in orange) and it's reconstructed output). As we can see, some bands (in the middle) work much better than the ones at the beginning and end. And the overall result is rather noisy. Advances in autoencoder architecture are expected to bring some improvements to the result."
      ],
      "metadata": {
        "id": "Ek90CjbZadhp"
      }
    },
    {
      "cell_type": "markdown",
      "source": [
        "### Feature extraction\n",
        "\n",
        "Here we're taking the hidden layer numbers for each sample, thus extract features from the trained autoencoder:"
      ],
      "metadata": {
        "id": "Q4leCbro-WKc"
      }
    },
    {
      "cell_type": "code",
      "source": [
        "from keras import backend as K\n",
        "# input placeholder\n",
        "inp = model_autoenc.input                   \n",
        "# extract the bottle neck outputs\n",
        "outputs = model_autoenc.layers[1].output     \n",
        "# create a function to evaluate the output of the bottle neck layer for a given input\n",
        "functors = K.function([inp], [outputs])"
      ],
      "metadata": {
        "id": "VXqF652S-Wde"
      },
      "execution_count": null,
      "outputs": []
    },
    {
      "cell_type": "code",
      "source": [
        "compressed_features = functors(np.concatenate([x_train, x_test]))"
      ],
      "metadata": {
        "id": "SAuAUPWri-9M"
      },
      "execution_count": null,
      "outputs": []
    },
    {
      "cell_type": "code",
      "source": [
        "np.concatenate([x_train, x_test]).shape"
      ],
      "metadata": {
        "colab": {
          "base_uri": "https://localhost:8080/"
        },
        "id": "995eVZC0jfyT",
        "outputId": "ae19bffd-d102-414a-ed53-e70e9e63c9f1"
      },
      "execution_count": null,
      "outputs": [
        {
          "output_type": "execute_result",
          "data": {
            "text/plain": [
              "(7828, 3006)"
            ]
          },
          "metadata": {},
          "execution_count": 91
        }
      ]
    },
    {
      "cell_type": "code",
      "source": [
        "# we have 64 features for all samples\n",
        "\n",
        "compressed_features[0].shape"
      ],
      "metadata": {
        "colab": {
          "base_uri": "https://localhost:8080/"
        },
        "id": "lQnBcAGRjXmN",
        "outputId": "35179c88-a74e-43bb-9222-1e0cb603bb53"
      },
      "execution_count": null,
      "outputs": [
        {
          "output_type": "execute_result",
          "data": {
            "text/plain": [
              "(7828, 64)"
            ]
          },
          "metadata": {},
          "execution_count": 92
        }
      ]
    },
    {
      "cell_type": "code",
      "source": [
        "compressed_features[0]"
      ],
      "metadata": {
        "id": "gWrtnB4Ue_VC",
        "colab": {
          "base_uri": "https://localhost:8080/"
        },
        "outputId": "0208e7c5-7526-4029-f8b3-5004e4ee04b0"
      },
      "execution_count": null,
      "outputs": [
        {
          "output_type": "execute_result",
          "data": {
            "text/plain": [
              "array([[ 32.44364  ,  63.96016  ,  26.845545 , ...,   6.2820005,\n",
              "          0.       ,  32.254894 ],\n",
              "       [ 17.443123 ,  16.649073 ,   1.2970006, ...,   2.4258208,\n",
              "         29.574484 ,   0.       ],\n",
              "       [239.47148  , 171.59132  ,  62.960743 , ...,   0.       ,\n",
              "         53.80349  , 116.893074 ],\n",
              "       ...,\n",
              "       [489.78888  , 346.67056  , 413.16638  , ...,  21.775856 ,\n",
              "         98.225136 , 248.83293  ],\n",
              "       [273.69278  , 528.46844  , 245.63077  , ..., 159.87344  ,\n",
              "         46.097965 , 115.85296  ],\n",
              "       [ 10.881871 ,  37.664005 ,  15.675756 , ...,  12.736168 ,\n",
              "         31.437069 ,  26.03871  ]], dtype=float32)"
            ]
          },
          "metadata": {},
          "execution_count": 93
        }
      ]
    },
    {
      "cell_type": "code",
      "source": [
        "lcvs_norm_mjd_0_listed_filt_interpolated_reduced_df = pd.read_pickle(\n",
        "    '/content/drive/MyDrive/Classes/22S-PHYS-667/HW8/lcvs_norm_mjd_0_listed_filt_interpolated_reduced_df.pkl'\n",
        ")"
      ],
      "metadata": {
        "id": "aJx00SBgjmjG"
      },
      "execution_count": null,
      "outputs": []
    },
    {
      "cell_type": "code",
      "source": [
        "all_ids_np = lcvs_norm_mjd_0_listed_filt_interpolated_reduced_df.index.to_numpy()"
      ],
      "metadata": {
        "id": "22lwT0QZlZll"
      },
      "execution_count": null,
      "outputs": []
    },
    {
      "cell_type": "code",
      "source": [
        "all_ids_list[:3]"
      ],
      "metadata": {
        "colab": {
          "base_uri": "https://localhost:8080/"
        },
        "id": "XAGMzspGlagK",
        "outputId": "19e10e95-e52d-44f7-d86a-4b4f4f9bdf8c"
      },
      "execution_count": null,
      "outputs": [
        {
          "output_type": "execute_result",
          "data": {
            "text/plain": [
              "array([615, 713, 730])"
            ]
          },
          "metadata": {},
          "execution_count": 136
        }
      ]
    },
    {
      "cell_type": "code",
      "source": [
        "compressed_features_np = compressed_features[0]"
      ],
      "metadata": {
        "id": "_gM1sjR1tAOO"
      },
      "execution_count": null,
      "outputs": []
    },
    {
      "cell_type": "code",
      "source": [
        "np.save(\n",
        "    '/content/drive/MyDrive/Classes/22S-PHYS-667/HW8/compressed_features_np.npy',\n",
        "    compressed_features_np\n",
        ")\n",
        "np.save(\n",
        "    '/content/drive/MyDrive/Classes/22S-PHYS-667/HW8/all_ids_np.npy',\n",
        "    all_ids_np\n",
        ")"
      ],
      "metadata": {
        "id": "tqX-9fDTwGCe"
      },
      "execution_count": null,
      "outputs": []
    },
    {
      "cell_type": "markdown",
      "source": [
        "## Classifier\n",
        "\n",
        "As suggested in readme, random forest classifier was used. I also tried Logistic Regression, but the results were worse, so I sticked to RF."
      ],
      "metadata": {
        "id": "juiMELJIl6PT"
      }
    },
    {
      "cell_type": "code",
      "source": [
        "import seaborn as sn"
      ],
      "metadata": {
        "id": "A_d79a8Zp9JS"
      },
      "execution_count": null,
      "outputs": []
    },
    {
      "cell_type": "code",
      "source": [
        "from sklearn.linear_model import LogisticRegression"
      ],
      "metadata": {
        "id": "y6OeGwTLmPBI"
      },
      "execution_count": null,
      "outputs": []
    },
    {
      "cell_type": "code",
      "source": [
        "from sklearn.metrics import multilabel_confusion_matrix, confusion_matrix\n",
        "from sklearn.model_selection import train_test_split"
      ],
      "metadata": {
        "id": "H0hqgAY4pHW3"
      },
      "execution_count": null,
      "outputs": []
    },
    {
      "cell_type": "code",
      "source": [
        "all_ids_np = np.load(\n",
        "    '/content/drive/MyDrive/Classes/22S-PHYS-667/HW8/all_ids_np.npy',\n",
        ")\n",
        "compressed_features_np = np.load(\n",
        "    '/content/drive/MyDrive/Classes/22S-PHYS-667/HW8/compressed_features_np.npy',\n",
        ")"
      ],
      "metadata": {
        "id": "_6ZdskHoweDr"
      },
      "execution_count": null,
      "outputs": []
    },
    {
      "cell_type": "code",
      "source": [
        "metadata = pd.read_csv(\n",
        "    \"\"\"https://zenodo.org/record/2539456/files/plasticc_train_metadata.csv.gz?download=1\"\"\", \n",
        "    compression='gzip'\n",
        "    ).set_index('object_id')"
      ],
      "metadata": {
        "id": "PDl7f0Lklnuk"
      },
      "execution_count": null,
      "outputs": []
    },
    {
      "cell_type": "code",
      "source": [
        "classes_array = metadata.loc[all_ids_list]['target'].to_numpy()"
      ],
      "metadata": {
        "id": "BswyJYhHmNph"
      },
      "execution_count": null,
      "outputs": []
    },
    {
      "cell_type": "markdown",
      "source": [
        "### Adding features from HW7"
      ],
      "metadata": {
        "id": "s0ed2rWa2lsI"
      }
    },
    {
      "cell_type": "code",
      "source": [
        "allfeatures_hw7_df = pd.read_pickle(\n",
        "    '/content/drive/MyDrive/Classes/22S-PHYS-667/HW7/allfeatures.pkl'\n",
        ")"
      ],
      "metadata": {
        "id": "iM6QTayY2eVx"
      },
      "execution_count": null,
      "outputs": []
    },
    {
      "cell_type": "code",
      "source": [
        "allfeatures_hw7_df"
      ],
      "metadata": {
        "colab": {
          "base_uri": "https://localhost:8080/",
          "height": 550
        },
        "id": "uQXomzsm2kVq",
        "outputId": "883573cf-3753-4c90-ba53-670170936df4"
      },
      "execution_count": null,
      "outputs": [
        {
          "output_type": "execute_result",
          "data": {
            "text/plain": [
              "passband            0                                                      1  \\\n",
              "                 mean          std      skew  kurtosis    median        mean   \n",
              "object_id                                                                      \n",
              "615         -3.254554    83.944735  0.125827 -1.454426 -0.081184 -385.699911   \n",
              "713         -2.720398     7.113509  0.254446 -1.027516 -0.053296   -1.019804   \n",
              "730         -0.048080     1.828872  0.349431  0.359725  0.039740    0.141057   \n",
              "745          1.797523     4.374445  1.980815  4.232286 -0.170538    5.717394   \n",
              "1124         0.660948     2.360084 -0.324207  0.664903 -0.034136    4.634637   \n",
              "...               ...          ...       ...       ...       ...         ...   \n",
              "130739978    1.286655    15.998517  1.623297  3.827157 -0.046388   11.604012   \n",
              "130755807   24.635243    79.713932  2.779088  6.214792 -0.276623    6.965825   \n",
              "130762946   -0.282914    46.605187 -1.877398  3.701710  0.171062  -20.094296   \n",
              "130772921    3.374208    14.420201  1.253611  0.602310 -0.363898   28.342250   \n",
              "130779836  812.700937  2120.766511  3.013054  7.418233 -0.354338  725.169852   \n",
              "\n",
              "passband                                               ...             4  \\\n",
              "                   std      skew   kurtosis    median  ...           std   \n",
              "object_id                                              ...                 \n",
              "615         601.787302  0.404755  -1.251198 -0.171576  ...    291.803449   \n",
              "713           5.712334 -0.085494  -1.106890  0.080915  ...      6.406989   \n",
              "730           1.807229  0.457635   0.771778  0.016918  ...     10.710344   \n",
              "745          25.964659  6.817994  46.333887 -0.187678  ...     33.069053   \n",
              "1124          8.107525  2.315295   5.496244 -0.432985  ...     26.865913   \n",
              "...                ...       ...        ...       ...  ...           ...   \n",
              "130739978    42.103636  3.274078   8.851832 -0.293677  ...     16.735430   \n",
              "130755807    16.268582  2.549417   5.025328 -0.368264  ...    108.319727   \n",
              "130762946    23.572412 -1.595460   2.763135  0.084014  ...     22.364118   \n",
              "130772921    97.513710  2.842442   6.087819 -0.317331  ...     10.112169   \n",
              "130779836  1197.557111  1.565742   0.772541 -0.536827  ...  11006.766106   \n",
              "\n",
              "passband                                            5                         \\\n",
              "               skew   kurtosis    median         mean          std      skew   \n",
              "object_id                                                                      \n",
              "615        0.194883  -1.519722 -0.164502   -47.449847   294.779522  0.121948   \n",
              "713       -0.062403  -1.191860  0.017023    -1.794175     7.094073  0.212294   \n",
              "730        2.462542   5.385640 -0.311592     4.539396    13.332758  1.630520   \n",
              "745        3.382600  12.445025 -0.362020    10.746138    26.060130  3.083716   \n",
              "1124       3.802308  14.897216 -0.306424     6.896742    21.434627  3.560347   \n",
              "...             ...        ...       ...          ...          ...       ...   \n",
              "130739978  0.411283   0.537647 -0.029879    20.073462    97.602719  3.825390   \n",
              "130755807  2.341093   3.831769 -0.337950     3.528390    38.849765  1.082769   \n",
              "130762946  0.579885  -0.298582 -0.108920    -9.838345    48.309960  1.458295   \n",
              "130772921 -0.334336  -0.642642  0.085127     7.671389    44.169662  2.515357   \n",
              "130779836  4.221177  17.012896 -0.315443  4151.358875  8687.101173  2.274800   \n",
              "\n",
              "passband                           decl  \n",
              "            kurtosis    median           \n",
              "object_id                                \n",
              "615        -1.559937 -0.130311 -61.9438  \n",
              "713        -0.832902 -0.095134 -27.7844  \n",
              "730         3.125970 -0.151253  -6.5796  \n",
              "745        10.952063 -0.309679 -45.5867  \n",
              "1124       13.095559 -0.231739 -63.8237  \n",
              "...              ...       ...      ...  \n",
              "130739978  17.651123 -0.092976 -14.9403  \n",
              "130755807   2.246605 -0.110052 -62.6967  \n",
              "130762946   4.501540 -0.026980 -55.6821  \n",
              "130772921   9.593440 -0.108513 -35.5018  \n",
              "130779836   3.629547 -0.427486 -17.4263  \n",
              "\n",
              "[7848 rows x 31 columns]"
            ],
            "text/html": [
              "\n",
              "  <div id=\"df-a841d502-6003-453b-826f-fa1df87cc951\">\n",
              "    <div class=\"colab-df-container\">\n",
              "      <div>\n",
              "<style scoped>\n",
              "    .dataframe tbody tr th:only-of-type {\n",
              "        vertical-align: middle;\n",
              "    }\n",
              "\n",
              "    .dataframe tbody tr th {\n",
              "        vertical-align: top;\n",
              "    }\n",
              "\n",
              "    .dataframe thead tr th {\n",
              "        text-align: left;\n",
              "    }\n",
              "\n",
              "    .dataframe thead tr:last-of-type th {\n",
              "        text-align: right;\n",
              "    }\n",
              "</style>\n",
              "<table border=\"1\" class=\"dataframe\">\n",
              "  <thead>\n",
              "    <tr>\n",
              "      <th>passband</th>\n",
              "      <th colspan=\"5\" halign=\"left\">0</th>\n",
              "      <th colspan=\"5\" halign=\"left\">1</th>\n",
              "      <th>...</th>\n",
              "      <th colspan=\"4\" halign=\"left\">4</th>\n",
              "      <th colspan=\"5\" halign=\"left\">5</th>\n",
              "      <th>decl</th>\n",
              "    </tr>\n",
              "    <tr>\n",
              "      <th></th>\n",
              "      <th>mean</th>\n",
              "      <th>std</th>\n",
              "      <th>skew</th>\n",
              "      <th>kurtosis</th>\n",
              "      <th>median</th>\n",
              "      <th>mean</th>\n",
              "      <th>std</th>\n",
              "      <th>skew</th>\n",
              "      <th>kurtosis</th>\n",
              "      <th>median</th>\n",
              "      <th>...</th>\n",
              "      <th>std</th>\n",
              "      <th>skew</th>\n",
              "      <th>kurtosis</th>\n",
              "      <th>median</th>\n",
              "      <th>mean</th>\n",
              "      <th>std</th>\n",
              "      <th>skew</th>\n",
              "      <th>kurtosis</th>\n",
              "      <th>median</th>\n",
              "      <th></th>\n",
              "    </tr>\n",
              "    <tr>\n",
              "      <th>object_id</th>\n",
              "      <th></th>\n",
              "      <th></th>\n",
              "      <th></th>\n",
              "      <th></th>\n",
              "      <th></th>\n",
              "      <th></th>\n",
              "      <th></th>\n",
              "      <th></th>\n",
              "      <th></th>\n",
              "      <th></th>\n",
              "      <th></th>\n",
              "      <th></th>\n",
              "      <th></th>\n",
              "      <th></th>\n",
              "      <th></th>\n",
              "      <th></th>\n",
              "      <th></th>\n",
              "      <th></th>\n",
              "      <th></th>\n",
              "      <th></th>\n",
              "      <th></th>\n",
              "    </tr>\n",
              "  </thead>\n",
              "  <tbody>\n",
              "    <tr>\n",
              "      <th>615</th>\n",
              "      <td>-3.254554</td>\n",
              "      <td>83.944735</td>\n",
              "      <td>0.125827</td>\n",
              "      <td>-1.454426</td>\n",
              "      <td>-0.081184</td>\n",
              "      <td>-385.699911</td>\n",
              "      <td>601.787302</td>\n",
              "      <td>0.404755</td>\n",
              "      <td>-1.251198</td>\n",
              "      <td>-0.171576</td>\n",
              "      <td>...</td>\n",
              "      <td>291.803449</td>\n",
              "      <td>0.194883</td>\n",
              "      <td>-1.519722</td>\n",
              "      <td>-0.164502</td>\n",
              "      <td>-47.449847</td>\n",
              "      <td>294.779522</td>\n",
              "      <td>0.121948</td>\n",
              "      <td>-1.559937</td>\n",
              "      <td>-0.130311</td>\n",
              "      <td>-61.9438</td>\n",
              "    </tr>\n",
              "    <tr>\n",
              "      <th>713</th>\n",
              "      <td>-2.720398</td>\n",
              "      <td>7.113509</td>\n",
              "      <td>0.254446</td>\n",
              "      <td>-1.027516</td>\n",
              "      <td>-0.053296</td>\n",
              "      <td>-1.019804</td>\n",
              "      <td>5.712334</td>\n",
              "      <td>-0.085494</td>\n",
              "      <td>-1.106890</td>\n",
              "      <td>0.080915</td>\n",
              "      <td>...</td>\n",
              "      <td>6.406989</td>\n",
              "      <td>-0.062403</td>\n",
              "      <td>-1.191860</td>\n",
              "      <td>0.017023</td>\n",
              "      <td>-1.794175</td>\n",
              "      <td>7.094073</td>\n",
              "      <td>0.212294</td>\n",
              "      <td>-0.832902</td>\n",
              "      <td>-0.095134</td>\n",
              "      <td>-27.7844</td>\n",
              "    </tr>\n",
              "    <tr>\n",
              "      <th>730</th>\n",
              "      <td>-0.048080</td>\n",
              "      <td>1.828872</td>\n",
              "      <td>0.349431</td>\n",
              "      <td>0.359725</td>\n",
              "      <td>0.039740</td>\n",
              "      <td>0.141057</td>\n",
              "      <td>1.807229</td>\n",
              "      <td>0.457635</td>\n",
              "      <td>0.771778</td>\n",
              "      <td>0.016918</td>\n",
              "      <td>...</td>\n",
              "      <td>10.710344</td>\n",
              "      <td>2.462542</td>\n",
              "      <td>5.385640</td>\n",
              "      <td>-0.311592</td>\n",
              "      <td>4.539396</td>\n",
              "      <td>13.332758</td>\n",
              "      <td>1.630520</td>\n",
              "      <td>3.125970</td>\n",
              "      <td>-0.151253</td>\n",
              "      <td>-6.5796</td>\n",
              "    </tr>\n",
              "    <tr>\n",
              "      <th>745</th>\n",
              "      <td>1.797523</td>\n",
              "      <td>4.374445</td>\n",
              "      <td>1.980815</td>\n",
              "      <td>4.232286</td>\n",
              "      <td>-0.170538</td>\n",
              "      <td>5.717394</td>\n",
              "      <td>25.964659</td>\n",
              "      <td>6.817994</td>\n",
              "      <td>46.333887</td>\n",
              "      <td>-0.187678</td>\n",
              "      <td>...</td>\n",
              "      <td>33.069053</td>\n",
              "      <td>3.382600</td>\n",
              "      <td>12.445025</td>\n",
              "      <td>-0.362020</td>\n",
              "      <td>10.746138</td>\n",
              "      <td>26.060130</td>\n",
              "      <td>3.083716</td>\n",
              "      <td>10.952063</td>\n",
              "      <td>-0.309679</td>\n",
              "      <td>-45.5867</td>\n",
              "    </tr>\n",
              "    <tr>\n",
              "      <th>1124</th>\n",
              "      <td>0.660948</td>\n",
              "      <td>2.360084</td>\n",
              "      <td>-0.324207</td>\n",
              "      <td>0.664903</td>\n",
              "      <td>-0.034136</td>\n",
              "      <td>4.634637</td>\n",
              "      <td>8.107525</td>\n",
              "      <td>2.315295</td>\n",
              "      <td>5.496244</td>\n",
              "      <td>-0.432985</td>\n",
              "      <td>...</td>\n",
              "      <td>26.865913</td>\n",
              "      <td>3.802308</td>\n",
              "      <td>14.897216</td>\n",
              "      <td>-0.306424</td>\n",
              "      <td>6.896742</td>\n",
              "      <td>21.434627</td>\n",
              "      <td>3.560347</td>\n",
              "      <td>13.095559</td>\n",
              "      <td>-0.231739</td>\n",
              "      <td>-63.8237</td>\n",
              "    </tr>\n",
              "    <tr>\n",
              "      <th>...</th>\n",
              "      <td>...</td>\n",
              "      <td>...</td>\n",
              "      <td>...</td>\n",
              "      <td>...</td>\n",
              "      <td>...</td>\n",
              "      <td>...</td>\n",
              "      <td>...</td>\n",
              "      <td>...</td>\n",
              "      <td>...</td>\n",
              "      <td>...</td>\n",
              "      <td>...</td>\n",
              "      <td>...</td>\n",
              "      <td>...</td>\n",
              "      <td>...</td>\n",
              "      <td>...</td>\n",
              "      <td>...</td>\n",
              "      <td>...</td>\n",
              "      <td>...</td>\n",
              "      <td>...</td>\n",
              "      <td>...</td>\n",
              "      <td>...</td>\n",
              "    </tr>\n",
              "    <tr>\n",
              "      <th>130739978</th>\n",
              "      <td>1.286655</td>\n",
              "      <td>15.998517</td>\n",
              "      <td>1.623297</td>\n",
              "      <td>3.827157</td>\n",
              "      <td>-0.046388</td>\n",
              "      <td>11.604012</td>\n",
              "      <td>42.103636</td>\n",
              "      <td>3.274078</td>\n",
              "      <td>8.851832</td>\n",
              "      <td>-0.293677</td>\n",
              "      <td>...</td>\n",
              "      <td>16.735430</td>\n",
              "      <td>0.411283</td>\n",
              "      <td>0.537647</td>\n",
              "      <td>-0.029879</td>\n",
              "      <td>20.073462</td>\n",
              "      <td>97.602719</td>\n",
              "      <td>3.825390</td>\n",
              "      <td>17.651123</td>\n",
              "      <td>-0.092976</td>\n",
              "      <td>-14.9403</td>\n",
              "    </tr>\n",
              "    <tr>\n",
              "      <th>130755807</th>\n",
              "      <td>24.635243</td>\n",
              "      <td>79.713932</td>\n",
              "      <td>2.779088</td>\n",
              "      <td>6.214792</td>\n",
              "      <td>-0.276623</td>\n",
              "      <td>6.965825</td>\n",
              "      <td>16.268582</td>\n",
              "      <td>2.549417</td>\n",
              "      <td>5.025328</td>\n",
              "      <td>-0.368264</td>\n",
              "      <td>...</td>\n",
              "      <td>108.319727</td>\n",
              "      <td>2.341093</td>\n",
              "      <td>3.831769</td>\n",
              "      <td>-0.337950</td>\n",
              "      <td>3.528390</td>\n",
              "      <td>38.849765</td>\n",
              "      <td>1.082769</td>\n",
              "      <td>2.246605</td>\n",
              "      <td>-0.110052</td>\n",
              "      <td>-62.6967</td>\n",
              "    </tr>\n",
              "    <tr>\n",
              "      <th>130762946</th>\n",
              "      <td>-0.282914</td>\n",
              "      <td>46.605187</td>\n",
              "      <td>-1.877398</td>\n",
              "      <td>3.701710</td>\n",
              "      <td>0.171062</td>\n",
              "      <td>-20.094296</td>\n",
              "      <td>23.572412</td>\n",
              "      <td>-1.595460</td>\n",
              "      <td>2.763135</td>\n",
              "      <td>0.084014</td>\n",
              "      <td>...</td>\n",
              "      <td>22.364118</td>\n",
              "      <td>0.579885</td>\n",
              "      <td>-0.298582</td>\n",
              "      <td>-0.108920</td>\n",
              "      <td>-9.838345</td>\n",
              "      <td>48.309960</td>\n",
              "      <td>1.458295</td>\n",
              "      <td>4.501540</td>\n",
              "      <td>-0.026980</td>\n",
              "      <td>-55.6821</td>\n",
              "    </tr>\n",
              "    <tr>\n",
              "      <th>130772921</th>\n",
              "      <td>3.374208</td>\n",
              "      <td>14.420201</td>\n",
              "      <td>1.253611</td>\n",
              "      <td>0.602310</td>\n",
              "      <td>-0.363898</td>\n",
              "      <td>28.342250</td>\n",
              "      <td>97.513710</td>\n",
              "      <td>2.842442</td>\n",
              "      <td>6.087819</td>\n",
              "      <td>-0.317331</td>\n",
              "      <td>...</td>\n",
              "      <td>10.112169</td>\n",
              "      <td>-0.334336</td>\n",
              "      <td>-0.642642</td>\n",
              "      <td>0.085127</td>\n",
              "      <td>7.671389</td>\n",
              "      <td>44.169662</td>\n",
              "      <td>2.515357</td>\n",
              "      <td>9.593440</td>\n",
              "      <td>-0.108513</td>\n",
              "      <td>-35.5018</td>\n",
              "    </tr>\n",
              "    <tr>\n",
              "      <th>130779836</th>\n",
              "      <td>812.700937</td>\n",
              "      <td>2120.766511</td>\n",
              "      <td>3.013054</td>\n",
              "      <td>7.418233</td>\n",
              "      <td>-0.354338</td>\n",
              "      <td>725.169852</td>\n",
              "      <td>1197.557111</td>\n",
              "      <td>1.565742</td>\n",
              "      <td>0.772541</td>\n",
              "      <td>-0.536827</td>\n",
              "      <td>...</td>\n",
              "      <td>11006.766106</td>\n",
              "      <td>4.221177</td>\n",
              "      <td>17.012896</td>\n",
              "      <td>-0.315443</td>\n",
              "      <td>4151.358875</td>\n",
              "      <td>8687.101173</td>\n",
              "      <td>2.274800</td>\n",
              "      <td>3.629547</td>\n",
              "      <td>-0.427486</td>\n",
              "      <td>-17.4263</td>\n",
              "    </tr>\n",
              "  </tbody>\n",
              "</table>\n",
              "<p>7848 rows × 31 columns</p>\n",
              "</div>\n",
              "      <button class=\"colab-df-convert\" onclick=\"convertToInteractive('df-a841d502-6003-453b-826f-fa1df87cc951')\"\n",
              "              title=\"Convert this dataframe to an interactive table.\"\n",
              "              style=\"display:none;\">\n",
              "        \n",
              "  <svg xmlns=\"http://www.w3.org/2000/svg\" height=\"24px\"viewBox=\"0 0 24 24\"\n",
              "       width=\"24px\">\n",
              "    <path d=\"M0 0h24v24H0V0z\" fill=\"none\"/>\n",
              "    <path d=\"M18.56 5.44l.94 2.06.94-2.06 2.06-.94-2.06-.94-.94-2.06-.94 2.06-2.06.94zm-11 1L8.5 8.5l.94-2.06 2.06-.94-2.06-.94L8.5 2.5l-.94 2.06-2.06.94zm10 10l.94 2.06.94-2.06 2.06-.94-2.06-.94-.94-2.06-.94 2.06-2.06.94z\"/><path d=\"M17.41 7.96l-1.37-1.37c-.4-.4-.92-.59-1.43-.59-.52 0-1.04.2-1.43.59L10.3 9.45l-7.72 7.72c-.78.78-.78 2.05 0 2.83L4 21.41c.39.39.9.59 1.41.59.51 0 1.02-.2 1.41-.59l7.78-7.78 2.81-2.81c.8-.78.8-2.07 0-2.86zM5.41 20L4 18.59l7.72-7.72 1.47 1.35L5.41 20z\"/>\n",
              "  </svg>\n",
              "      </button>\n",
              "      \n",
              "  <style>\n",
              "    .colab-df-container {\n",
              "      display:flex;\n",
              "      flex-wrap:wrap;\n",
              "      gap: 12px;\n",
              "    }\n",
              "\n",
              "    .colab-df-convert {\n",
              "      background-color: #E8F0FE;\n",
              "      border: none;\n",
              "      border-radius: 50%;\n",
              "      cursor: pointer;\n",
              "      display: none;\n",
              "      fill: #1967D2;\n",
              "      height: 32px;\n",
              "      padding: 0 0 0 0;\n",
              "      width: 32px;\n",
              "    }\n",
              "\n",
              "    .colab-df-convert:hover {\n",
              "      background-color: #E2EBFA;\n",
              "      box-shadow: 0px 1px 2px rgba(60, 64, 67, 0.3), 0px 1px 3px 1px rgba(60, 64, 67, 0.15);\n",
              "      fill: #174EA6;\n",
              "    }\n",
              "\n",
              "    [theme=dark] .colab-df-convert {\n",
              "      background-color: #3B4455;\n",
              "      fill: #D2E3FC;\n",
              "    }\n",
              "\n",
              "    [theme=dark] .colab-df-convert:hover {\n",
              "      background-color: #434B5C;\n",
              "      box-shadow: 0px 1px 3px 1px rgba(0, 0, 0, 0.15);\n",
              "      filter: drop-shadow(0px 1px 2px rgba(0, 0, 0, 0.3));\n",
              "      fill: #FFFFFF;\n",
              "    }\n",
              "  </style>\n",
              "\n",
              "      <script>\n",
              "        const buttonEl =\n",
              "          document.querySelector('#df-a841d502-6003-453b-826f-fa1df87cc951 button.colab-df-convert');\n",
              "        buttonEl.style.display =\n",
              "          google.colab.kernel.accessAllowed ? 'block' : 'none';\n",
              "\n",
              "        async function convertToInteractive(key) {\n",
              "          const element = document.querySelector('#df-a841d502-6003-453b-826f-fa1df87cc951');\n",
              "          const dataTable =\n",
              "            await google.colab.kernel.invokeFunction('convertToInteractive',\n",
              "                                                     [key], {});\n",
              "          if (!dataTable) return;\n",
              "\n",
              "          const docLinkHtml = 'Like what you see? Visit the ' +\n",
              "            '<a target=\"_blank\" href=https://colab.research.google.com/notebooks/data_table.ipynb>data table notebook</a>'\n",
              "            + ' to learn more about interactive tables.';\n",
              "          element.innerHTML = '';\n",
              "          dataTable['output_type'] = 'display_data';\n",
              "          await google.colab.output.renderOutput(dataTable, element);\n",
              "          const docLink = document.createElement('div');\n",
              "          docLink.innerHTML = docLinkHtml;\n",
              "          element.appendChild(docLink);\n",
              "        }\n",
              "      </script>\n",
              "    </div>\n",
              "  </div>\n",
              "  "
            ]
          },
          "metadata": {},
          "execution_count": 154
        }
      ]
    },
    {
      "cell_type": "code",
      "source": [
        "allfeatures_hw7_np = allfeatures_hw7_df.loc[all_ids_list].to_numpy()\n",
        "allfeatures_hw7_np.shape"
      ],
      "metadata": {
        "colab": {
          "base_uri": "https://localhost:8080/"
        },
        "id": "EaD8MQvm2nEQ",
        "outputId": "b4ec54a5-4cad-4316-f6a5-05dc206a6592"
      },
      "execution_count": null,
      "outputs": [
        {
          "output_type": "execute_result",
          "data": {
            "text/plain": [
              "(7828, 31)"
            ]
          },
          "metadata": {},
          "execution_count": 158
        }
      ]
    },
    {
      "cell_type": "code",
      "source": [
        "all_features_concat_np = np.concatenate(\n",
        "    [allfeatures_hw7_np, compressed_features_np],\n",
        "    axis=1\n",
        ")\n",
        "all_features_concat_np.shape"
      ],
      "metadata": {
        "colab": {
          "base_uri": "https://localhost:8080/"
        },
        "id": "eBQo7AjQ2rdz",
        "outputId": "c9fd0980-da4a-4d50-ffb5-ffcf4ab5bda6"
      },
      "execution_count": null,
      "outputs": [
        {
          "output_type": "execute_result",
          "data": {
            "text/plain": [
              "(7828, 95)"
            ]
          },
          "metadata": {},
          "execution_count": 167
        }
      ]
    },
    {
      "cell_type": "markdown",
      "source": [
        "### Ablation study: curated features (C) vs Autoencoder (A) vs both (CA)\n",
        "\n",
        "Here we compare 3 sets of features and check which set is the best"
      ],
      "metadata": {
        "id": "li2AF2Ly3pB9"
      }
    },
    {
      "cell_type": "code",
      "source": [
        "from sklearn.ensemble import RandomForestClassifier"
      ],
      "metadata": {
        "id": "cn9-hHVU397K"
      },
      "execution_count": null,
      "outputs": []
    },
    {
      "cell_type": "code",
      "source": [
        "idx_train, idx_test = train_test_split(\n",
        "    np.array(range(len(classes_array))), \n",
        "    test_size=0.33, \n",
        "    random_state=42\n",
        ")"
      ],
      "metadata": {
        "id": "n8ka2Web42xV"
      },
      "execution_count": null,
      "outputs": []
    },
    {
      "cell_type": "code",
      "source": [
        "len(idx_train), len(idx_test)"
      ],
      "metadata": {
        "colab": {
          "base_uri": "https://localhost:8080/"
        },
        "id": "XS88mFlR6q7F",
        "outputId": "78903938-5642-4b0f-d7a9-6f54c344b87d"
      },
      "execution_count": null,
      "outputs": [
        {
          "output_type": "execute_result",
          "data": {
            "text/plain": [
              "(5244, 2584)"
            ]
          },
          "metadata": {},
          "execution_count": 188
        }
      ]
    },
    {
      "cell_type": "code",
      "source": [
        "features_dict = {\n",
        "    'C': allfeatures_hw7_np,\n",
        "    'A': compressed_features_np,\n",
        "    'CA': all_features_concat_np,\n",
        "}\n",
        "results_dict = dict()"
      ],
      "metadata": {
        "id": "ULGsVLkT5KXN"
      },
      "execution_count": null,
      "outputs": []
    },
    {
      "cell_type": "code",
      "source": [
        "y_train = classes_array[idx_train]\n",
        "y_test = classes_array[idx_test]\n",
        "\n",
        "for mode in tqdm(features_dict):\n",
        "  clf = RandomForestClassifier(random_state=0)\n",
        "  X_train = features_dict[mode][idx_train]\n",
        "  X_test = features_dict[mode][idx_test]\n",
        "  clf.fit(X_train, y_train)\n",
        "\n",
        "  y_test_pred = clf.predict(X_test)\n",
        "\n",
        "  results_dict[mode] = {\n",
        "      'accuracy': clf.score(X_test, y_test),\n",
        "      'class_matrix': confusion_matrix(\n",
        "          y_true=y_test,\n",
        "          y_pred=clf.predict(X_test),\n",
        "      ),\n",
        "      'classes': clf.classes_,\n",
        "  }"
      ],
      "metadata": {
        "colab": {
          "base_uri": "https://localhost:8080/"
        },
        "id": "8H_YNtae57uv",
        "outputId": "1b8c4e35-fc5a-4600-cf72-446ed664fe07"
      },
      "execution_count": null,
      "outputs": [
        {
          "output_type": "stream",
          "name": "stderr",
          "text": [
            "100%|██████████| 3/3 [00:16<00:00,  5.47s/it]\n"
          ]
        }
      ]
    },
    {
      "cell_type": "code",
      "source": [
        "for mode in results_dict:\n",
        "  print(f\"features type: {mode}\")\n",
        "  print(f\"accuracy: {results_dict[mode]['accuracy']}\")\n",
        "  cm_df = pd.DataFrame(\n",
        "    results_dict[mode]['class_matrix'], \n",
        "    index = results_dict[mode]['classes'],\n",
        "    columns = results_dict[mode]['classes'],\n",
        "  )\n",
        "  sn.heatmap(cm_df, annot=True)\n",
        "  pl.show()"
      ],
      "metadata": {
        "colab": {
          "base_uri": "https://localhost:8080/",
          "height": 1000
        },
        "id": "-Qo_bsKU4lZL",
        "outputId": "5a52bee9-4fde-4e32-fc47-3031d32fec09"
      },
      "execution_count": null,
      "outputs": [
        {
          "output_type": "stream",
          "name": "stdout",
          "text": [
            "features type: C\n",
            "accuracy: 0.6617647058823529\n"
          ]
        },
        {
          "output_type": "display_data",
          "data": {
            "text/plain": [
              "<Figure size 1080x720 with 2 Axes>"
            ],
            "image/png": "[encoded data removed]"
          },
          "metadata": {
            "needs_background": "light"
          }
        },
        {
          "output_type": "stream",
          "name": "stdout",
          "text": [
            "features type: A\n",
            "accuracy: 0.2801857585139319\n"
          ]
        },
        {
          "output_type": "display_data",
          "data": {
            "text/plain": [
              "<Figure size 1080x720 with 2 Axes>"
            ],
            "image/png": "[encoded data removed]"
          },
          "metadata": {
            "needs_background": "light"
          }
        },
        {
          "output_type": "stream",
          "name": "stdout",
          "text": [
            "features type: CA\n",
            "accuracy: 0.6501547987616099\n"
          ]
        },
        {
          "output_type": "display_data",
          "data": {
            "text/plain": [
              "<Figure size 1080x720 with 2 Axes>"
            ],
            "image/png": "[encoded data removed]"
          },
          "metadata": {
            "needs_background": "light"
          }
        }
      ]
    },
    {
      "cell_type": "markdown",
      "source": [
        "Plots: classification matrices for 3 RF classifiers trained on the same data with different features. The best accuracy (0.66) was demonstrated by the one trained with only curated features we extracted in HW7, adding AE features made the result a bit worse (0.65) and AE features solely do not provide good results. We also need to keep in mind that accuracy is probably not the best way to evaluate the classifier for this case (bacause we have a significant class imbalance):"
      ],
      "metadata": {
        "id": "CE6t5O6Pd-j5"
      }
    },
    {
      "cell_type": "code",
      "source": [
        "metadata['target'].value_counts()"
      ],
      "metadata": {
        "colab": {
          "base_uri": "https://localhost:8080/"
        },
        "id": "P3HCrWTe8zLy",
        "outputId": "c6aefbd3-6c5c-47d8-b868-82ce48b018d9"
      },
      "execution_count": null,
      "outputs": [
        {
          "output_type": "execute_result",
          "data": {
            "text/plain": [
              "90    2313\n",
              "42    1193\n",
              "65     981\n",
              "16     924\n",
              "15     495\n",
              "62     484\n",
              "88     370\n",
              "92     239\n",
              "67     208\n",
              "52     183\n",
              "95     175\n",
              "6      151\n",
              "64     102\n",
              "53      30\n",
              "Name: target, dtype: int64"
            ]
          },
          "metadata": {},
          "execution_count": 199
        }
      ]
    },
    {
      "cell_type": "markdown",
      "source": [
        "So, to conclude, there are some improvements we could make to get better results and we will definitely keep the experience we got in HW8/9 in mind when we work on our project!"
      ],
      "metadata": {
        "id": "kDcF7XE3e9Pz"
      }
    }
  ]
}