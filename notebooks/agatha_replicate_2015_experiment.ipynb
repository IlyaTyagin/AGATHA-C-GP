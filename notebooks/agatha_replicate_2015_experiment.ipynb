{
 "cells": [
  {
   "cell_type": "markdown",
   "metadata": {},
   "source": [
    "# Imports"
   ]
  },
  {
   "cell_type": "code",
   "execution_count": 1,
   "metadata": {},
   "outputs": [],
   "source": [
    "from agatha.ml.hypothesis_predictor import HypothesisPredictor\n",
    "from agatha.ml.hypothesis_predictor.predicate_util import clean_coded_term\n",
    "from pathlib import Path\n",
    "import json\n",
    "import torch\n",
    "from tqdm.notebook import tqdm\n",
    "from sklearn.metrics import average_precision_score, roc_auc_score\n",
    "\n",
    "\n",
    "# Its likely that we're going to get a \"source code has changed\" warning\n",
    "# We're okay with that\n",
    "import warnings\n",
    "warnings.filterwarnings('ignore')"
   ]
  },
  {
   "cell_type": "markdown",
   "metadata": {},
   "source": [
    "# Configure and Load the Agatha Model"
   ]
  },
  {
   "cell_type": "code",
   "execution_count": 2,
   "metadata": {},
   "outputs": [],
   "source": [
    "#################################\n",
    "# YOU NEED TO CHANGE THESE PATHS#\n",
    "MODEL_PATH =     Path(\"/zfs/safrolab/users/jsybran/agatha/data/releases/2020/hypothesis_predictor/2020_05_04.pt\")\n",
    "GRAPH_DB_PATH =  Path(\"/zfs/safrolab/users/jsybran/agatha/data/releases/2020/predicate_graph.sqlite3\")\n",
    "ENTITY_DB_PATH = Path(\"/zfs/safrolab/users/jsybran/agatha/data/releases/2020/predicate_entities.sqlite3\")\n",
    "EMBEDDING_DIR =  Path(\"/zfs/safrolab/users/jsybran/agatha/data/releases/2020/embeddings\")\n",
    "# YOU NEED TO CHANGE THESE PATHS#\n",
    "#################################\n",
    "\n",
    "\n",
    "# Make sure all the paths were set properly\n",
    "assert MODEL_PATH.is_file(), f\"Cannot find {MODEL_PATH}\"\n",
    "assert MODEL_PATH.suffix == \".pt\", f\"Expecting model in pytorch model format, not ckpt.\"\n",
    "assert GRAPH_DB_PATH.is_file(), f\"Cannot find {GRAPH_DB_PATH}\"\n",
    "assert ENTITY_DB_PATH.is_file(), f\"Cannot find {ENTITY_DB_PATH}\"\n",
    "assert EMBEDDING_DIR.is_dir(), f\"Cannot find {EMBEDDING_DIR}\""
   ]
  },
  {
   "cell_type": "code",
   "execution_count": 3,
   "metadata": {},
   "outputs": [],
   "source": [
    "# Load the Agatha model\n",
    "model = torch.load(MODEL_PATH)\n",
    "model.configure_paths(\n",
    "    graph_db=GRAPH_DB_PATH,\n",
    "    entity_db=ENTITY_DB_PATH,\n",
    "    embedding_dir=EMBEDDING_DIR\n",
    ")"
   ]
  },
  {
   "cell_type": "code",
   "execution_count": 4,
   "metadata": {},
   "outputs": [],
   "source": [
    "# Move the model to GPU, optional step to improve performance\n",
    "model = model.cuda()"
   ]
  },
  {
   "cell_type": "code",
   "execution_count": 5,
   "metadata": {},
   "outputs": [],
   "source": [
    "# Preload the model, optional step to improve performance\n",
    "# Warning, will take a minute\n",
    "model.preload()"
   ]
  },
  {
   "cell_type": "markdown",
   "metadata": {},
   "source": [
    "# Load Test Data"
   ]
  },
  {
   "cell_type": "code",
   "execution_count": 6,
   "metadata": {},
   "outputs": [],
   "source": [
    "# FIXED PATHS TO TEST DATA\n",
    "BENCHMARK_DIR = Path(\n",
    "    \"/zfs/safrolab/users/jsybran/agatha\"\n",
    "    \"/data/benchmarks/predicates_2015/\"\n",
    ")\n",
    "TYPED_POPULAR_PREDICATES = BENCHMARK_DIR.joinpath(\n",
    "    \"all_pairs_top_20_types.json\"\n",
    ")\n",
    "MOLIERE_BENCHMARK_POSITIVES = BENCHMARK_DIR.joinpath(\n",
    "    \"moliere_2015/published.txt\"\n",
    ")\n",
    "MOLIERE_BENCHMARK_NEGATIVES = BENCHMARK_DIR.joinpath(\n",
    "    \"moliere_2015/noise.txt\"\n",
    ")\n",
    "\n",
    "# Check that all files are in place\n",
    "for p in [\n",
    "    TYPED_POPULAR_PREDICATES,\n",
    "    MOLIERE_BENCHMARK_POSITIVES,\n",
    "    MOLIERE_BENCHMARK_NEGATIVES\n",
    "]:\n",
    "    assert p.is_file(), f\"Cannot find {p} file\""
   ]
  },
  {
   "cell_type": "code",
   "execution_count": 7,
   "metadata": {},
   "outputs": [],
   "source": [
    "# LOAD DATA\n",
    "\"\"\"\n",
    "Schema:\n",
    "{\n",
    "  \"<query_set_name>\": [\n",
    "    {\n",
    "      \"source\": \"<name>\",\n",
    "      \"target\": \"<name>\",\n",
    "      \"label\": [0 or 1]\n",
    "    }\n",
    "  ]\n",
    "  ...\n",
    "}\n",
    "\n",
    "The file TYPED_POPULAR_PREDICATES includes 100 predicate entries per predicate type.\n",
    "Types include:\n",
    "  'aapp:dsyn', 'aapp:gngm', 'bpoc:aapp', 'gngm:neop', 'dsyn:dsyn',\n",
    "  'cell:aapp', 'gngm:aapp', 'dsyn:humn', 'gngm:celf', 'orch:gngm', \n",
    "  'phsu:dsyn', 'bacs:aapp', 'gngm:cell', 'gngm:dsyn', 'gngm:gngm', \n",
    "  'aapp:neop', 'aapp:aapp', 'topp:dsyn', 'bacs:gngm', 'aapp:cell'\n",
    "\"\"\"\n",
    "query_sets = json.load(open(TYPED_POPULAR_PREDICATES))"
   ]
  },
  {
   "cell_type": "code",
   "execution_count": 8,
   "metadata": {},
   "outputs": [],
   "source": [
    "# Add the moliere benchmark as a query set\n",
    "\"\"\"\n",
    "These files look like:\n",
    "  C0454279|C0043251|2016\n",
    "  C1563740|C0729627|2016\n",
    "  C1522549|C0023759|2016\n",
    "  C0516977|C0454448|2017\n",
    "  ...\n",
    "  \n",
    "Note, Agatha can handle these names automatically\n",
    "\"\"\"\n",
    "query_sets[\"moliere\"] = []\n",
    "for path, label in [\n",
    "    (MOLIERE_BENCHMARK_POSITIVES, 1), \n",
    "    (MOLIERE_BENCHMARK_NEGATIVES, 0)\n",
    "]:\n",
    "    with open(path) as file:\n",
    "        for line in file:\n",
    "            source, target, _ = line.strip().split(\"|\")\n",
    "            # this replaced \"C###\" with \"m:c###\"\n",
    "            source = clean_coded_term(source)\n",
    "            target = clean_coded_term(target)\n",
    "            query_sets[\"moliere\"].append(dict(\n",
    "                source=source,\n",
    "                target=target,\n",
    "                label=label\n",
    "            ))"
   ]
  },
  {
   "cell_type": "code",
   "execution_count": 9,
   "metadata": {},
   "outputs": [
    {
     "name": "stdout",
     "output_type": "stream",
     "text": [
      "Removed 2 positive and 644 negative examples from the moliere set\n"
     ]
    }
   ],
   "source": [
    "# Filter out any predicate that uses terms missing from this model\n",
    "# Clean all subject and object names\n",
    "valid_keys = model.graph.keys()\n",
    "for set_name, predicates in query_sets.items():\n",
    "    removed_predicates = []\n",
    "    kept_predicates = []\n",
    "    for pred in predicates:\n",
    "        if pred[\"source\"] in valid_keys and pred[\"target\"] in valid_keys:\n",
    "            kept_predicates.append(pred)\n",
    "        else:\n",
    "            removed_predicates.append(pred)\n",
    "    # Print some debug info\n",
    "    if len(removed_predicates) > 0:\n",
    "        num_pos = len([p for p in removed_predicates if p[\"label\"]==1])\n",
    "        num_neg = len([p for p in removed_predicates if p[\"label\"]==0])\n",
    "        print(f\"Removed {num_pos} positive and {num_neg} negative examples from the {set_name} set\")\n",
    "    predicates.clear()\n",
    "    predicates += kept_predicates"
   ]
  },
  {
   "cell_type": "code",
   "execution_count": 10,
   "metadata": {},
   "outputs": [
    {
     "name": "stdout",
     "output_type": "stream",
     "text": [
      "aapp:dsyn:\tTotal: 4108\tPos: 8.23%\n",
      "aapp:gngm:\tTotal: 2550\tPos: 9.06%\n",
      "bpoc:aapp:\tTotal: 4161\tPos: 8.41%\n",
      "gngm:neop:\tTotal: 2496\tPos: 18.59%\n",
      "dsyn:dsyn:\tTotal: 5223\tPos: 4.14%\n",
      "cell:aapp:\tTotal: 2524\tPos: 8.84%\n",
      "gngm:aapp:\tTotal: 3166\tPos: 8.97%\n",
      "dsyn:humn:\tTotal: 3225\tPos: 7.13%\n",
      "gngm:celf:\tTotal: 1018\tPos: 21.22%\n",
      "orch:gngm:\tTotal: 4488\tPos: 9.00%\n",
      "phsu:dsyn:\tTotal: 4895\tPos: 6.44%\n",
      "bacs:aapp:\tTotal: 3614\tPos: 5.59%\n",
      "gngm:cell:\tTotal: 2412\tPos: 9.70%\n",
      "gngm:dsyn:\tTotal: 4638\tPos: 6.08%\n",
      "gngm:gngm:\tTotal: 4286\tPos: 6.25%\n",
      "aapp:neop:\tTotal: 3002\tPos: 12.46%\n",
      "aapp:aapp:\tTotal: 4828\tPos: 4.04%\n",
      "topp:dsyn:\tTotal: 6269\tPos: 4.40%\n",
      "bacs:gngm:\tTotal: 2477\tPos: 8.44%\n",
      "aapp:cell:\tTotal: 1677\tPos: 10.38%\n",
      "moliere:\tTotal: 1354\tPos: 73.71%\n"
     ]
    }
   ],
   "source": [
    "# Print out query set details:\n",
    "for set_name, predicates in query_sets.items():\n",
    "    num_pos = len([p for p in predicates if p[\"label\"]==1])\n",
    "    print(f\"{set_name}:\\tTotal: {len(predicates)}\\tPos: {num_pos/len(predicates)*100:2.2f}%\")"
   ]
  },
  {
   "cell_type": "markdown",
   "metadata": {},
   "source": [
    "# Evaluate Each Predicate\n",
    "\n",
    "This one is going to take a while"
   ]
  },
  {
   "cell_type": "code",
   "execution_count": null,
   "metadata": {},
   "outputs": [
    {
     "name": "stdout",
     "output_type": "stream",
     "text": [
      "Predicting: aapp:dsyn\n"
     ]
    },
    {
     "data": {
      "application/vnd.jupyter.widget-view+json": {
       "model_id": "3801492acd0249e6aa3935620a41e58b",
       "version_major": 2,
       "version_minor": 0
      },
      "text/plain": [
       "HBox(children=(FloatProgress(value=0.0, max=4108.0), HTML(value='')))"
      ]
     },
     "metadata": {},
     "output_type": "display_data"
    },
    {
     "name": "stdout",
     "output_type": "stream",
     "text": [
      "\n"
     ]
    }
   ],
   "source": [
    "# This one is going to take a while\n",
    "# For each query set\n",
    "for set_name, predicates in query_sets.items():\n",
    "    print(\"Predicting:\", set_name)\n",
    "    # pull out source and target for each predicate\n",
    "    \n",
    "    queries = tqdm([(p[\"source\"], p[\"target\"]) for p in predicates])\n",
    "    # Add the model prediction score to each predicate\n",
    "    for prediction, predicate in zip(\n",
    "        model.predict_from_terms(queries, batch_size=64), \n",
    "        predicates\n",
    "    ):\n",
    "        predicate[\"prediction\"] = prediction"
   ]
  },
  {
   "cell_type": "markdown",
   "metadata": {},
   "source": [
    "# Calculate Metrics"
   ]
  },
  {
   "cell_type": "code",
   "execution_count": 16,
   "metadata": {},
   "outputs": [],
   "source": [
    "def reciprocal_rank(labels_in_order):\n",
    "    \"\"\"\n",
    "    Assumes that if i < j then labels_in_order[i]\n",
    "    got a higher score than labels_in_order[j]\n",
    "    \"\"\"\n",
    "    for idx, lbl in enumerate(labels_in_order):\n",
    "        if lbl == 1:\n",
    "            return 1 / (idx + 1)\n",
    "    return 0"
   ]
  },
  {
   "cell_type": "code",
   "execution_count": 18,
   "metadata": {},
   "outputs": [],
   "source": [
    "def precision_at_k(labels_in_order, k):\n",
    "    \"\"\"\n",
    "    Assumes that if i < j then labels_in_order[i]\n",
    "    got a higher score than labels_in_order[j].\n",
    "    Assumes positive label is 1 and negative label is 0\n",
    "    \"\"\"\n",
    "    return sum(labels_in_order[:k]) / k"
   ]
  },
  {
   "cell_type": "code",
   "execution_count": 21,
   "metadata": {},
   "outputs": [],
   "source": [
    "def average_precision_at_k(labels_in_order, k):\n",
    "    \"\"\"\n",
    "    Assumes that if i < j then labels_in_order[i]\n",
    "    got a higher score than labels_in_order[j].\n",
    "    Assumes positive label is 1 and negative label is 0\n",
    "    \"\"\"\n",
    "    numerator = 0\n",
    "    gtp = 0\n",
    "    for idx in range(k):\n",
    "        if labels_in_order[idx] == 1:\n",
    "            gtp += 1\n",
    "            numerator += (gtp/(idx+1))\n",
    "    if gtp == 0:\n",
    "        return 0\n",
    "    else:\n",
    "        return (numerator / gtp)"
   ]
  },
  {
   "cell_type": "code",
   "execution_count": 22,
   "metadata": {},
   "outputs": [
    {
     "name": "stdout",
     "output_type": "stream",
     "text": [
      "aapp:dsyn\n",
      "\tROC AUC: 0.8058\n",
      "\tPR AUC:  0.2827\n",
      "\tRR:      1.0000\n",
      "\tP@10:    0.6000\n",
      "\tP@100:   0.4700\n",
      "\tAP@10:   0.6815\n",
      "\tAP@100:  0.5207\n",
      "aapp:gngm\n",
      "\tROC AUC: 0.7689\n",
      "\tPR AUC:  0.2542\n",
      "\tRR:      0.5000\n",
      "\tP@10:    0.6000\n",
      "\tP@100:   0.3100\n",
      "\tAP@10:   0.6347\n",
      "\tAP@100:  0.4680\n",
      "bpoc:aapp\n",
      "\tROC AUC: 0.7777\n",
      "\tPR AUC:  0.2532\n",
      "\tRR:      0.3333\n",
      "\tP@10:    0.6000\n",
      "\tP@100:   0.3800\n",
      "\tAP@10:   0.5653\n",
      "\tAP@100:  0.4619\n",
      "gngm:neop\n",
      "\tROC AUC: 0.8124\n",
      "\tPR AUC:  0.4743\n",
      "\tRR:      1.0000\n",
      "\tP@10:    0.9000\n",
      "\tP@100:   0.5800\n",
      "\tAP@10:   0.8412\n",
      "\tAP@100:  0.7232\n",
      "dsyn:dsyn\n",
      "\tROC AUC: 0.7989\n",
      "\tPR AUC:  0.1919\n",
      "\tRR:      0.5000\n",
      "\tP@10:    0.7000\n",
      "\tP@100:   0.3100\n",
      "\tAP@10:   0.7407\n",
      "\tAP@100:  0.4827\n",
      "cell:aapp\n",
      "\tROC AUC: 0.7830\n",
      "\tPR AUC:  0.2709\n",
      "\tRR:      1.0000\n",
      "\tP@10:    0.6000\n",
      "\tP@100:   0.3500\n",
      "\tAP@10:   0.8302\n",
      "\tAP@100:  0.4994\n",
      "gngm:aapp\n",
      "\tROC AUC: 0.7576\n",
      "\tPR AUC:  0.2593\n",
      "\tRR:      1.0000\n",
      "\tP@10:    0.6000\n",
      "\tP@100:   0.3400\n",
      "\tAP@10:   0.8524\n",
      "\tAP@100:  0.4997\n",
      "dsyn:humn\n",
      "\tROC AUC: 0.8031\n",
      "\tPR AUC:  0.2189\n",
      "\tRR:      1.0000\n",
      "\tP@10:    0.5000\n",
      "\tP@100:   0.2400\n",
      "\tAP@10:   0.7143\n",
      "\tAP@100:  0.3828\n",
      "gngm:celf\n",
      "\tROC AUC: 0.8061\n",
      "\tPR AUC:  0.4706\n",
      "\tRR:      0.3333\n",
      "\tP@10:    0.5000\n",
      "\tP@100:   0.5500\n",
      "\tAP@10:   0.4667\n",
      "\tAP@100:  0.5408\n",
      "orch:gngm\n",
      "\tROC AUC: 0.8206\n",
      "\tPR AUC:  0.2950\n",
      "\tRR:      0.1667\n",
      "\tP@10:    0.3000\n",
      "\tP@100:   0.4300\n",
      "\tAP@10:   0.2508\n",
      "\tAP@100:  0.3652\n",
      "phsu:dsyn\n",
      "\tROC AUC: 0.7977\n",
      "\tPR AUC:  0.2182\n",
      "\tRR:      1.0000\n",
      "\tP@10:    0.6000\n",
      "\tP@100:   0.3100\n",
      "\tAP@10:   0.8417\n",
      "\tAP@100:  0.4402\n",
      "bacs:aapp\n",
      "\tROC AUC: 0.8049\n",
      "\tPR AUC:  0.1973\n",
      "\tRR:      0.5000\n",
      "\tP@10:    0.4000\n",
      "\tP@100:   0.2900\n",
      "\tAP@10:   0.4929\n",
      "\tAP@100:  0.3547\n",
      "gngm:cell\n",
      "\tROC AUC: 0.7771\n",
      "\tPR AUC:  0.2910\n",
      "\tRR:      1.0000\n",
      "\tP@10:    0.7000\n",
      "\tP@100:   0.4000\n",
      "\tAP@10:   0.9325\n",
      "\tAP@100:  0.5971\n",
      "gngm:dsyn\n",
      "\tROC AUC: 0.7927\n",
      "\tPR AUC:  0.2172\n",
      "\tRR:      1.0000\n",
      "\tP@10:    0.6000\n",
      "\tP@100:   0.3200\n",
      "\tAP@10:   0.8105\n",
      "\tAP@100:  0.5204\n",
      "gngm:gngm\n",
      "\tROC AUC: 0.7935\n",
      "\tPR AUC:  0.1941\n",
      "\tRR:      0.2000\n",
      "\tP@10:    0.2000\n",
      "\tP@100:   0.2900\n",
      "\tAP@10:   0.2667\n",
      "\tAP@100:  0.2802\n",
      "aapp:neop\n",
      "\tROC AUC: 0.7616\n",
      "\tPR AUC:  0.3148\n",
      "\tRR:      0.5000\n",
      "\tP@10:    0.6000\n",
      "\tP@100:   0.4800\n",
      "\tAP@10:   0.5378\n",
      "\tAP@100:  0.5266\n",
      "aapp:aapp\n",
      "\tROC AUC: 0.7730\n",
      "\tPR AUC:  0.1151\n",
      "\tRR:      0.1429\n",
      "\tP@10:    0.1000\n",
      "\tP@100:   0.1500\n",
      "\tAP@10:   0.1429\n",
      "\tAP@100:  0.1387\n",
      "topp:dsyn\n",
      "\tROC AUC: 0.8049\n",
      "\tPR AUC:  0.1618\n",
      "\tRR:      0.5000\n",
      "\tP@10:    0.1000\n",
      "\tP@100:   0.2400\n",
      "\tAP@10:   0.5000\n",
      "\tAP@100:  0.2277\n",
      "bacs:gngm\n",
      "\tROC AUC: 0.7653\n",
      "\tPR AUC:  0.2191\n",
      "\tRR:      1.0000\n",
      "\tP@10:    0.4000\n",
      "\tP@100:   0.3000\n",
      "\tAP@10:   0.5583\n",
      "\tAP@100:  0.3762\n",
      "aapp:cell\n",
      "\tROC AUC: 0.7750\n",
      "\tPR AUC:  0.2794\n",
      "\tRR:      1.0000\n",
      "\tP@10:    0.6000\n",
      "\tP@100:   0.3400\n",
      "\tAP@10:   0.8357\n",
      "\tAP@100:  0.4714\n",
      "moliere\n",
      "\tROC AUC: 0.9692\n",
      "\tPR AUC:  0.9861\n",
      "\tRR:      1.0000\n",
      "\tP@10:    1.0000\n",
      "\tP@100:   1.0000\n",
      "\tAP@10:   1.0000\n",
      "\tAP@100:  1.0000\n"
     ]
    }
   ],
   "source": [
    "for set_name, predicates in query_sets.items():\n",
    "    print(set_name)\n",
    "    # predictions is sorted high to low\n",
    "    # predictions[i] corresponds to labels[i]\n",
    "    predictions, labels = zip(\n",
    "        *sorted(\n",
    "            [\n",
    "                (p[\"prediction\"], p[\"label\"])\n",
    "                for p in predicates\n",
    "            ],\n",
    "            reverse=True\n",
    "        )\n",
    "    )\n",
    "    roc_auc = roc_auc_score(y_true=labels, y_score=predictions)\n",
    "    pr_auc = average_precision_score(y_true=labels, y_score=predictions)\n",
    "    rr = reciprocal_rank(labels)\n",
    "    p_at_10 = precision_at_k(labels, 10)\n",
    "    p_at_100 = precision_at_k(labels, 100)\n",
    "    ap_at_10 = average_precision_at_k(labels, 10)\n",
    "    ap_at_100 = average_precision_at_k(labels, 100)\n",
    "    print(f\"\\tROC AUC: {roc_auc:0.4f}\")\n",
    "    print(f\"\\tPR AUC:  {pr_auc:0.4f}\")\n",
    "    print(f\"\\tRR:      {rr:0.4f}\")\n",
    "    print(f\"\\tP@10:    {p_at_10:0.4f}\")\n",
    "    print(f\"\\tP@100:   {p_at_100:0.4f}\")\n",
    "    print(f\"\\tAP@10:   {ap_at_10:0.4f}\")\n",
    "    print(f\"\\tAP@100:  {ap_at_100:0.4f}\")"
   ]
  }
 ],
 "metadata": {
  "kernelspec": {
   "display_name": "agatha",
   "language": "python",
   "name": "agatha"
  },
  "language_info": {
   "codemirror_mode": {
    "name": "ipython",
    "version": 3
   },
   "file_extension": ".py",
   "mimetype": "text/x-python",
   "name": "python",
   "nbconvert_exporter": "python",
   "pygments_lexer": "ipython3",
   "version": "3.8.1"
  }
 },
 "nbformat": 4,
 "nbformat_minor": 2
}
