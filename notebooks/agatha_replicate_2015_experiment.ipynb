{
 "cells": [
  {
   "cell_type": "markdown",
   "metadata": {},
   "source": [
    "# Imports"
   ]
  },
  {
   "cell_type": "code",
   "execution_count": 1,
   "metadata": {},
   "outputs": [],
   "source": [
    "from agatha.ml.hypothesis_predictor import HypothesisPredictor\n",
    "from agatha.ml.hypothesis_predictor.predicate_util import clean_coded_term\n",
    "from pathlib import Path\n",
    "import json\n",
    "import torch\n",
    "from tqdm.notebook import tqdm\n",
    "from sklearn.metrics import average_precision_score, roc_auc_score\n",
    "\n",
    "\n",
    "# Its likely that we're going to get a \"source code has changed\" warning\n",
    "# We're okay with that\n",
    "import warnings\n",
    "warnings.filterwarnings('ignore')\n"
   ]
  },
  {
   "cell_type": "markdown",
   "metadata": {},
   "source": [
    "# Configure and Load the Agatha Model"
   ]
  },
  {
   "cell_type": "code",
   "execution_count": 2,
   "metadata": {},
   "outputs": [],
   "source": [
    "#################################\n",
    "# YOU NEED TO CHANGE THESE PATHS#\n",
    "ROOT =           Path(\"/zfs/safrolab/users/jsybran/agatha/data\"\n",
    "                      \"/releases/2015/model_release\")\n",
    "MODEL_PATH =     ROOT.joinpath(\"model.pt\")\n",
    "GRAPH_DB_PATH =  ROOT.joinpath(\"predicate_graph.sqlite3\")\n",
    "ENTITY_DB_PATH = ROOT.joinpath(\"predicate_entities.sqlite3\")\n",
    "EMBEDDING_DIR =  ROOT.joinpath(\"predicate_embeddings\")\n",
    "# YOU NEED TO CHANGE THESE PATHS#\n",
    "\n",
    "#MODEL_PATH=Path(\"/zfs/safrolab/users/jsybran/agatha/data/experimental/edge2vec/default_param/agatha_model.pt\")\n",
    "#GRAPH_DB_PATH=Path(\"/zfs/safrolab/users/jsybran/agatha/data/releases/2015/predicate_graph.sqlite3\")\n",
    "#ENTITY_DB_PATH=Path(\"/zfs/safrolab/users/jsybran/agatha/data/experimental/edge2vec/default_param/embeddings/entities.sqlite3\")\n",
    "#EMBEDDING_DIR=Path(\"/zfs/safrolab/users/jsybran/agatha/data/experimental/edge2vec/default_param/embeddings\")\n",
    "\n",
    "#################################\n",
    "\n",
    "\n",
    "# Make sure all the paths were set properly\n",
    "assert MODEL_PATH.is_file(), f\"Cannot find {MODEL_PATH}\"\n",
    "assert MODEL_PATH.suffix == \".pt\", f\"Expecting model in pytorch model format, not ckpt.\"\n",
    "assert GRAPH_DB_PATH.is_file(), f\"Cannot find {GRAPH_DB_PATH}\"\n",
    "assert ENTITY_DB_PATH.is_file(), f\"Cannot find {ENTITY_DB_PATH}\"\n",
    "assert EMBEDDING_DIR.is_dir(), f\"Cannot find {EMBEDDING_DIR}\""
   ]
  },
  {
   "cell_type": "code",
   "execution_count": 3,
   "metadata": {},
   "outputs": [],
   "source": [
    "# Load the Agatha model\n",
    "model = torch.load(MODEL_PATH)\n",
    "model.configure_paths(\n",
    "    graph_db=GRAPH_DB_PATH,\n",
    "    entity_db=ENTITY_DB_PATH,\n",
    "    embedding_dir=EMBEDDING_DIR\n",
    ")"
   ]
  },
  {
   "cell_type": "code",
   "execution_count": 4,
   "metadata": {},
   "outputs": [],
   "source": [
    "# Move the model to GPU, optional step to improve performance\n",
    "model = model.cuda()"
   ]
  },
  {
   "cell_type": "code",
   "execution_count": 5,
   "metadata": {},
   "outputs": [],
   "source": [
    "# Preload the model, optional step to improve performance\n",
    "# Warning, will take a minute\n",
    "model.preload()"
   ]
  },
  {
   "cell_type": "markdown",
   "metadata": {},
   "source": [
    "# Load Test Data"
   ]
  },
  {
   "cell_type": "code",
   "execution_count": 6,
   "metadata": {},
   "outputs": [],
   "source": [
    "# FIXED PATHS TO TEST DATA\n",
    "BENCHMARK_DIR = Path(\n",
    "    \"/zfs/safrolab/users/jsybran/agatha\"\n",
    "    \"/data/benchmarks/predicates_2015/\"\n",
    ")\n",
    "TYPED_POPULAR_PREDICATES = BENCHMARK_DIR.joinpath(\n",
    "    \"all_pairs_top_20_types.json\"\n",
    ")\n",
    "MOLIERE_BENCHMARK_POSITIVES = BENCHMARK_DIR.joinpath(\n",
    "    \"moliere_2015/published.txt\"\n",
    ")\n",
    "MOLIERE_BENCHMARK_NEGATIVES = BENCHMARK_DIR.joinpath(\n",
    "    \"moliere_2015/noise.txt\"\n",
    ")\n",
    "\n",
    "# Check that all files are in place\n",
    "for p in [\n",
    "    TYPED_POPULAR_PREDICATES,\n",
    "    MOLIERE_BENCHMARK_POSITIVES,\n",
    "    MOLIERE_BENCHMARK_NEGATIVES\n",
    "]:\n",
    "    assert p.is_file(), f\"Cannot find {p} file\""
   ]
  },
  {
   "cell_type": "code",
   "execution_count": 7,
   "metadata": {},
   "outputs": [],
   "source": [
    "# LOAD DATA\n",
    "\"\"\"\n",
    "Schema:\n",
    "{\n",
    "  \"<query_set_name>\": [\n",
    "    {\n",
    "      \"source\": \"<name>\",\n",
    "      \"target\": \"<name>\",\n",
    "      \"label\": [0 or 1]\n",
    "    }\n",
    "  ]\n",
    "  ...\n",
    "}\n",
    "\n",
    "The file TYPED_POPULAR_PREDICATES includes 100 predicate entries per predicate type.\n",
    "Types include:\n",
    "  'aapp:dsyn', 'aapp:gngm', 'bpoc:aapp', 'gngm:neop', 'dsyn:dsyn',\n",
    "  'cell:aapp', 'gngm:aapp', 'dsyn:humn', 'gngm:celf', 'orch:gngm', \n",
    "  'phsu:dsyn', 'bacs:aapp', 'gngm:cell', 'gngm:dsyn', 'gngm:gngm', \n",
    "  'aapp:neop', 'aapp:aapp', 'topp:dsyn', 'bacs:gngm', 'aapp:cell'\n",
    "\"\"\"\n",
    "query_sets = json.load(open(TYPED_POPULAR_PREDICATES))"
   ]
  },
  {
   "cell_type": "code",
   "execution_count": 8,
   "metadata": {},
   "outputs": [],
   "source": [
    "# Add the moliere benchmark as a query set\n",
    "\"\"\"\n",
    "These files look like:\n",
    "  C0454279|C0043251|2016\n",
    "  C1563740|C0729627|2016\n",
    "  C1522549|C0023759|2016\n",
    "  C0516977|C0454448|2017\n",
    "  ...\n",
    "  \n",
    "Note, Agatha can handle these names automatically\n",
    "\"\"\"\n",
    "query_sets[\"moliere\"] = []\n",
    "for path, label in [\n",
    "    (MOLIERE_BENCHMARK_POSITIVES, 1), \n",
    "    (MOLIERE_BENCHMARK_NEGATIVES, 0)\n",
    "]:\n",
    "    with open(path) as file:\n",
    "        for line in file:\n",
    "            source, target, _ = line.strip().split(\"|\")\n",
    "            # this replaced \"C###\" with \"m:c###\"\n",
    "            source = clean_coded_term(source)\n",
    "            target = clean_coded_term(target)\n",
    "            query_sets[\"moliere\"].append(dict(\n",
    "                source=source,\n",
    "                target=target,\n",
    "                label=label\n",
    "            ))"
   ]
  },
  {
   "cell_type": "code",
   "execution_count": 9,
   "metadata": {},
   "outputs": [
    {
     "name": "stdout",
     "output_type": "stream",
     "text": [
      "Removed 3 positive and 655 negative examples from the moliere set\n"
     ]
    }
   ],
   "source": [
    "# Filter out any predicate that uses terms missing from this model\n",
    "# Clean all subject and object names\n",
    "valid_keys = model.graph.keys()\n",
    "for set_name, predicates in query_sets.items():\n",
    "    removed_predicates = []\n",
    "    kept_predicates = []\n",
    "    for pred in predicates:\n",
    "        if pred[\"source\"] in valid_keys and pred[\"target\"] in valid_keys:\n",
    "            kept_predicates.append(pred)\n",
    "        else:\n",
    "            removed_predicates.append(pred)\n",
    "    # Print some debug info\n",
    "    if len(removed_predicates) > 0:\n",
    "        num_pos = len([p for p in removed_predicates if p[\"label\"]==1])\n",
    "        num_neg = len([p for p in removed_predicates if p[\"label\"]==0])\n",
    "        print(f\"Removed {num_pos} positive and {num_neg} negative examples from the {set_name} set\")\n",
    "    predicates.clear()\n",
    "    predicates += kept_predicates"
   ]
  },
  {
   "cell_type": "code",
   "execution_count": 10,
   "metadata": {},
   "outputs": [
    {
     "name": "stdout",
     "output_type": "stream",
     "text": [
      "aapp:dsyn:\tTotal: 4108\tPos: 8.23%\n",
      "aapp:gngm:\tTotal: 2550\tPos: 9.06%\n",
      "bpoc:aapp:\tTotal: 4161\tPos: 8.41%\n",
      "gngm:neop:\tTotal: 2496\tPos: 18.59%\n",
      "dsyn:dsyn:\tTotal: 5223\tPos: 4.14%\n",
      "cell:aapp:\tTotal: 2524\tPos: 8.84%\n",
      "gngm:aapp:\tTotal: 3166\tPos: 8.97%\n",
      "dsyn:humn:\tTotal: 3225\tPos: 7.13%\n",
      "gngm:celf:\tTotal: 1018\tPos: 21.22%\n",
      "orch:gngm:\tTotal: 4488\tPos: 9.00%\n",
      "phsu:dsyn:\tTotal: 4895\tPos: 6.44%\n",
      "bacs:aapp:\tTotal: 3614\tPos: 5.59%\n",
      "gngm:cell:\tTotal: 2412\tPos: 9.70%\n",
      "gngm:dsyn:\tTotal: 4638\tPos: 6.08%\n",
      "gngm:gngm:\tTotal: 4286\tPos: 6.25%\n",
      "aapp:neop:\tTotal: 3002\tPos: 12.46%\n",
      "aapp:aapp:\tTotal: 4828\tPos: 4.04%\n",
      "topp:dsyn:\tTotal: 6269\tPos: 4.40%\n",
      "bacs:gngm:\tTotal: 2477\tPos: 8.44%\n",
      "aapp:cell:\tTotal: 1677\tPos: 10.38%\n",
      "moliere:\tTotal: 1342\tPos: 74.29%\n"
     ]
    }
   ],
   "source": [
    "# Print out query set details:\n",
    "for set_name, predicates in query_sets.items():\n",
    "    num_pos = len([p for p in predicates if p[\"label\"]==1])\n",
    "    print(f\"{set_name}:\\tTotal: {len(predicates)}\\tPos: {num_pos/len(predicates)*100:2.2f}%\")"
   ]
  },
  {
   "cell_type": "markdown",
   "metadata": {},
   "source": [
    "# Evaluate Each Predicate\n",
    "\n",
    "This one is going to take a while"
   ]
  },
  {
   "cell_type": "code",
   "execution_count": 11,
   "metadata": {},
   "outputs": [
    {
     "name": "stdout",
     "output_type": "stream",
     "text": [
      "Predicting: aapp:dsyn\n"
     ]
    },
    {
     "data": {
      "application/vnd.jupyter.widget-view+json": {
       "model_id": "caf7bb7e6258436899d62b13a2e2fc57",
       "version_major": 2,
       "version_minor": 0
      },
      "text/plain": [
       "HBox(children=(FloatProgress(value=0.0, max=4108.0), HTML(value='')))"
      ]
     },
     "metadata": {},
     "output_type": "display_data"
    },
    {
     "name": "stdout",
     "output_type": "stream",
     "text": [
      "\n",
      "Predicting: aapp:gngm\n"
     ]
    },
    {
     "data": {
      "application/vnd.jupyter.widget-view+json": {
       "model_id": "dc62150f68b34011824728f8d6f812b4",
       "version_major": 2,
       "version_minor": 0
      },
      "text/plain": [
       "HBox(children=(FloatProgress(value=0.0, max=2550.0), HTML(value='')))"
      ]
     },
     "metadata": {},
     "output_type": "display_data"
    },
    {
     "name": "stdout",
     "output_type": "stream",
     "text": [
      "\n",
      "Predicting: bpoc:aapp\n"
     ]
    },
    {
     "data": {
      "application/vnd.jupyter.widget-view+json": {
       "model_id": "a35fa9301fcb4af7806e9880916c0400",
       "version_major": 2,
       "version_minor": 0
      },
      "text/plain": [
       "HBox(children=(FloatProgress(value=0.0, max=4161.0), HTML(value='')))"
      ]
     },
     "metadata": {},
     "output_type": "display_data"
    },
    {
     "name": "stdout",
     "output_type": "stream",
     "text": [
      "\n",
      "Predicting: gngm:neop\n"
     ]
    },
    {
     "data": {
      "application/vnd.jupyter.widget-view+json": {
       "model_id": "384f4f495f1a4750bb87a2be79057f85",
       "version_major": 2,
       "version_minor": 0
      },
      "text/plain": [
       "HBox(children=(FloatProgress(value=0.0, max=2496.0), HTML(value='')))"
      ]
     },
     "metadata": {},
     "output_type": "display_data"
    },
    {
     "name": "stdout",
     "output_type": "stream",
     "text": [
      "\n",
      "Predicting: dsyn:dsyn\n"
     ]
    },
    {
     "data": {
      "application/vnd.jupyter.widget-view+json": {
       "model_id": "a26bce7d1b0a4b1fa93685bd6ef542a4",
       "version_major": 2,
       "version_minor": 0
      },
      "text/plain": [
       "HBox(children=(FloatProgress(value=0.0, max=5223.0), HTML(value='')))"
      ]
     },
     "metadata": {},
     "output_type": "display_data"
    },
    {
     "name": "stdout",
     "output_type": "stream",
     "text": [
      "\n",
      "Predicting: cell:aapp\n"
     ]
    },
    {
     "data": {
      "application/vnd.jupyter.widget-view+json": {
       "model_id": "8a7a1f03aa6d4ef18c2a856f6d4625b2",
       "version_major": 2,
       "version_minor": 0
      },
      "text/plain": [
       "HBox(children=(FloatProgress(value=0.0, max=2524.0), HTML(value='')))"
      ]
     },
     "metadata": {},
     "output_type": "display_data"
    },
    {
     "name": "stdout",
     "output_type": "stream",
     "text": [
      "\n",
      "Predicting: gngm:aapp\n"
     ]
    },
    {
     "data": {
      "application/vnd.jupyter.widget-view+json": {
       "model_id": "e5aec229e75e4abca8d91907c57f327e",
       "version_major": 2,
       "version_minor": 0
      },
      "text/plain": [
       "HBox(children=(FloatProgress(value=0.0, max=3166.0), HTML(value='')))"
      ]
     },
     "metadata": {},
     "output_type": "display_data"
    },
    {
     "name": "stdout",
     "output_type": "stream",
     "text": [
      "\n",
      "Predicting: dsyn:humn\n"
     ]
    },
    {
     "data": {
      "application/vnd.jupyter.widget-view+json": {
       "model_id": "dde9981534434577b43c9621fa4c79fd",
       "version_major": 2,
       "version_minor": 0
      },
      "text/plain": [
       "HBox(children=(FloatProgress(value=0.0, max=3225.0), HTML(value='')))"
      ]
     },
     "metadata": {},
     "output_type": "display_data"
    },
    {
     "name": "stdout",
     "output_type": "stream",
     "text": [
      "\n",
      "Predicting: gngm:celf\n"
     ]
    },
    {
     "data": {
      "application/vnd.jupyter.widget-view+json": {
       "model_id": "7e5fdea8f63e4a109ca22178a0ac71eb",
       "version_major": 2,
       "version_minor": 0
      },
      "text/plain": [
       "HBox(children=(FloatProgress(value=0.0, max=1018.0), HTML(value='')))"
      ]
     },
     "metadata": {},
     "output_type": "display_data"
    },
    {
     "name": "stdout",
     "output_type": "stream",
     "text": [
      "\n",
      "Predicting: orch:gngm\n"
     ]
    },
    {
     "data": {
      "application/vnd.jupyter.widget-view+json": {
       "model_id": "f241139ac9d341a6806b3e3f00a07dd0",
       "version_major": 2,
       "version_minor": 0
      },
      "text/plain": [
       "HBox(children=(FloatProgress(value=0.0, max=4488.0), HTML(value='')))"
      ]
     },
     "metadata": {},
     "output_type": "display_data"
    },
    {
     "name": "stdout",
     "output_type": "stream",
     "text": [
      "\n",
      "Predicting: phsu:dsyn\n"
     ]
    },
    {
     "data": {
      "application/vnd.jupyter.widget-view+json": {
       "model_id": "ba285b98c9874311a800f2c4ec6d5747",
       "version_major": 2,
       "version_minor": 0
      },
      "text/plain": [
       "HBox(children=(FloatProgress(value=0.0, max=4895.0), HTML(value='')))"
      ]
     },
     "metadata": {},
     "output_type": "display_data"
    },
    {
     "name": "stdout",
     "output_type": "stream",
     "text": [
      "\n",
      "Predicting: bacs:aapp\n"
     ]
    },
    {
     "data": {
      "application/vnd.jupyter.widget-view+json": {
       "model_id": "ff8963cbb54c433aa7eda1ae0c9efa11",
       "version_major": 2,
       "version_minor": 0
      },
      "text/plain": [
       "HBox(children=(FloatProgress(value=0.0, max=3614.0), HTML(value='')))"
      ]
     },
     "metadata": {},
     "output_type": "display_data"
    },
    {
     "name": "stdout",
     "output_type": "stream",
     "text": [
      "\n",
      "Predicting: gngm:cell\n"
     ]
    },
    {
     "data": {
      "application/vnd.jupyter.widget-view+json": {
       "model_id": "7ae821ca3aa54a0785c6fba33bb8ffa9",
       "version_major": 2,
       "version_minor": 0
      },
      "text/plain": [
       "HBox(children=(FloatProgress(value=0.0, max=2412.0), HTML(value='')))"
      ]
     },
     "metadata": {},
     "output_type": "display_data"
    },
    {
     "name": "stdout",
     "output_type": "stream",
     "text": [
      "\n",
      "Predicting: gngm:dsyn\n"
     ]
    },
    {
     "data": {
      "application/vnd.jupyter.widget-view+json": {
       "model_id": "e74eac763ac448f99f1cc7a290df9a1c",
       "version_major": 2,
       "version_minor": 0
      },
      "text/plain": [
       "HBox(children=(FloatProgress(value=0.0, max=4638.0), HTML(value='')))"
      ]
     },
     "metadata": {},
     "output_type": "display_data"
    },
    {
     "name": "stdout",
     "output_type": "stream",
     "text": [
      "\n",
      "Predicting: gngm:gngm\n"
     ]
    },
    {
     "data": {
      "application/vnd.jupyter.widget-view+json": {
       "model_id": "e60c894ba9534ea3a802d62b93221085",
       "version_major": 2,
       "version_minor": 0
      },
      "text/plain": [
       "HBox(children=(FloatProgress(value=0.0, max=4286.0), HTML(value='')))"
      ]
     },
     "metadata": {},
     "output_type": "display_data"
    },
    {
     "name": "stdout",
     "output_type": "stream",
     "text": [
      "\n",
      "Predicting: aapp:neop\n"
     ]
    },
    {
     "data": {
      "application/vnd.jupyter.widget-view+json": {
       "model_id": "40f4481944b5459eb759fee3625ca544",
       "version_major": 2,
       "version_minor": 0
      },
      "text/plain": [
       "HBox(children=(FloatProgress(value=0.0, max=3002.0), HTML(value='')))"
      ]
     },
     "metadata": {},
     "output_type": "display_data"
    },
    {
     "name": "stdout",
     "output_type": "stream",
     "text": [
      "\n",
      "Predicting: aapp:aapp\n"
     ]
    },
    {
     "data": {
      "application/vnd.jupyter.widget-view+json": {
       "model_id": "c75191c531674d368a5d8e7fdac655f2",
       "version_major": 2,
       "version_minor": 0
      },
      "text/plain": [
       "HBox(children=(FloatProgress(value=0.0, max=4828.0), HTML(value='')))"
      ]
     },
     "metadata": {},
     "output_type": "display_data"
    },
    {
     "name": "stdout",
     "output_type": "stream",
     "text": [
      "\n",
      "Predicting: topp:dsyn\n"
     ]
    },
    {
     "data": {
      "application/vnd.jupyter.widget-view+json": {
       "model_id": "c31c6e2a27aa4a888c349e817fc7b20f",
       "version_major": 2,
       "version_minor": 0
      },
      "text/plain": [
       "HBox(children=(FloatProgress(value=0.0, max=6269.0), HTML(value='')))"
      ]
     },
     "metadata": {},
     "output_type": "display_data"
    },
    {
     "name": "stdout",
     "output_type": "stream",
     "text": [
      "\n",
      "Predicting: bacs:gngm\n"
     ]
    },
    {
     "data": {
      "application/vnd.jupyter.widget-view+json": {
       "model_id": "4f5b67996eb04b0a87feddbaa59a65da",
       "version_major": 2,
       "version_minor": 0
      },
      "text/plain": [
       "HBox(children=(FloatProgress(value=0.0, max=2477.0), HTML(value='')))"
      ]
     },
     "metadata": {},
     "output_type": "display_data"
    },
    {
     "name": "stdout",
     "output_type": "stream",
     "text": [
      "\n",
      "Predicting: aapp:cell\n"
     ]
    },
    {
     "data": {
      "application/vnd.jupyter.widget-view+json": {
       "model_id": "1255d251232142a2b659f7463949082d",
       "version_major": 2,
       "version_minor": 0
      },
      "text/plain": [
       "HBox(children=(FloatProgress(value=0.0, max=1677.0), HTML(value='')))"
      ]
     },
     "metadata": {},
     "output_type": "display_data"
    },
    {
     "name": "stdout",
     "output_type": "stream",
     "text": [
      "\n",
      "Predicting: moliere\n"
     ]
    },
    {
     "data": {
      "application/vnd.jupyter.widget-view+json": {
       "model_id": "51eaad3e76674c52b15c5bef7014d824",
       "version_major": 2,
       "version_minor": 0
      },
      "text/plain": [
       "HBox(children=(FloatProgress(value=0.0, max=1342.0), HTML(value='')))"
      ]
     },
     "metadata": {},
     "output_type": "display_data"
    },
    {
     "name": "stdout",
     "output_type": "stream",
     "text": [
      "\n"
     ]
    }
   ],
   "source": [
    "# This one is going to take a while\n",
    "# For each query set\n",
    "for set_name, predicates in query_sets.items():\n",
    "    print(\"Predicting:\", set_name)\n",
    "    # pull out source and target for each predicate\n",
    "    \n",
    "    queries = tqdm([(p[\"source\"], p[\"target\"]) for p in predicates])\n",
    "    # Add the model prediction score to each predicate\n",
    "    for prediction, predicate in zip(\n",
    "        model.predict_from_terms(queries, batch_size=64), \n",
    "        predicates\n",
    "    ):\n",
    "        predicate[\"prediction\"] = prediction"
   ]
  },
  {
   "cell_type": "code",
   "execution_count": 12,
   "metadata": {},
   "outputs": [],
   "source": [
    "# Balance Moliere set\n",
    "pos_samples = list(filter(lambda r: r[\"label\"]==1, query_sets[\"moliere\"]))\n",
    "neg_samples = list(filter(lambda r: r[\"label\"]==0, query_sets[\"moliere\"]))\n",
    "l = min(len(pos_samples), len(neg_samples))\n",
    "query_sets[\"moliere\"] = pos_samples[:l] + neg_samples[:l]"
   ]
  },
  {
   "cell_type": "markdown",
   "metadata": {},
   "source": [
    "# Calculate Metrics"
   ]
  },
  {
   "cell_type": "code",
   "execution_count": 13,
   "metadata": {},
   "outputs": [],
   "source": [
    "def reciprocal_rank(labels_in_order):\n",
    "    \"\"\"\n",
    "    Assumes that if i < j then labels_in_order[i]\n",
    "    got a higher score than labels_in_order[j]\n",
    "    \"\"\"\n",
    "    for idx, lbl in enumerate(labels_in_order):\n",
    "        if lbl == 1:\n",
    "            return 1 / (idx + 1)\n",
    "    return 0"
   ]
  },
  {
   "cell_type": "code",
   "execution_count": 14,
   "metadata": {},
   "outputs": [],
   "source": [
    "def precision_at_k(labels_in_order, k):\n",
    "    \"\"\"\n",
    "    Assumes that if i < j then labels_in_order[i]\n",
    "    got a higher score than labels_in_order[j].\n",
    "    Assumes positive label is 1 and negative label is 0\n",
    "    \"\"\"\n",
    "    return sum(labels_in_order[:k]) / k"
   ]
  },
  {
   "cell_type": "code",
   "execution_count": 15,
   "metadata": {},
   "outputs": [],
   "source": [
    "def average_precision_at_k(labels_in_order, k):\n",
    "    \"\"\"\n",
    "    Assumes that if i < j then labels_in_order[i]\n",
    "    got a higher score than labels_in_order[j].\n",
    "    Assumes positive label is 1 and negative label is 0\n",
    "    \"\"\"\n",
    "    numerator = 0\n",
    "    gtp = 0\n",
    "    for idx in range(k):\n",
    "        if labels_in_order[idx] == 1:\n",
    "            gtp += 1\n",
    "            numerator += (gtp/(idx+1))\n",
    "    if gtp == 0:\n",
    "        return 0\n",
    "    else:\n",
    "        return (numerator / gtp)"
   ]
  },
  {
   "cell_type": "code",
   "execution_count": 16,
   "metadata": {},
   "outputs": [],
   "source": [
    "query_set2metrics = {}\n",
    "for set_name, predicates in query_sets.items():\n",
    "    # predictions is sorted high to low\n",
    "    # predictions[i] corresponds to labels[i]\n",
    "    predictions, labels = zip(\n",
    "        *sorted(\n",
    "            [\n",
    "                (p[\"prediction\"], p[\"label\"])\n",
    "                for p in predicates\n",
    "            ],\n",
    "            reverse=True\n",
    "        )\n",
    "    )\n",
    "    query_set2metrics[set_name]=dict(\n",
    "      roc_auc=roc_auc_score(y_true=labels, y_score=predictions),\n",
    "      pr_auc=average_precision_score(y_true=labels, y_score=predictions),\n",
    "      rr=reciprocal_rank(labels),\n",
    "      p_at_10=precision_at_k(labels, 10),\n",
    "      p_at_100=precision_at_k(labels, 100),\n",
    "      ap_at_10=average_precision_at_k(labels, 10),\n",
    "      ap_at_100=average_precision_at_k(labels, 100),\n",
    "    )"
   ]
  },
  {
   "cell_type": "code",
   "execution_count": 17,
   "metadata": {},
   "outputs": [
    {
     "name": "stdout",
     "output_type": "stream",
     "text": [
      "HypothesisPredictor(\n",
      "  (embedding_transformation): Linear(in_features=512, out_features=512, bias=True)\n",
      "  (encode_predicate_data): TransformerEncoder(\n",
      "    (layers): ModuleList(\n",
      "      (0): TransformerEncoderLayer(\n",
      "        (self_attn): MultiheadAttention(\n",
      "          (out_proj): Linear(in_features=512, out_features=512, bias=True)\n",
      "        )\n",
      "        (linear1): Linear(in_features=512, out_features=1024, bias=True)\n",
      "        (dropout): Dropout(p=0.1, inplace=False)\n",
      "        (linear2): Linear(in_features=1024, out_features=512, bias=True)\n",
      "        (norm1): LayerNorm((512,), eps=1e-05, elementwise_affine=True)\n",
      "        (norm2): LayerNorm((512,), eps=1e-05, elementwise_affine=True)\n",
      "        (dropout1): Dropout(p=0.1, inplace=False)\n",
      "        (dropout2): Dropout(p=0.1, inplace=False)\n",
      "      )\n",
      "      (1): TransformerEncoderLayer(\n",
      "        (self_attn): MultiheadAttention(\n",
      "          (out_proj): Linear(in_features=512, out_features=512, bias=True)\n",
      "        )\n",
      "        (linear1): Linear(in_features=512, out_features=1024, bias=True)\n",
      "        (dropout): Dropout(p=0.1, inplace=False)\n",
      "        (linear2): Linear(in_features=1024, out_features=512, bias=True)\n",
      "        (norm1): LayerNorm((512,), eps=1e-05, elementwise_affine=True)\n",
      "        (norm2): LayerNorm((512,), eps=1e-05, elementwise_affine=True)\n",
      "        (dropout1): Dropout(p=0.1, inplace=False)\n",
      "        (dropout2): Dropout(p=0.1, inplace=False)\n",
      "      )\n",
      "      (2): TransformerEncoderLayer(\n",
      "        (self_attn): MultiheadAttention(\n",
      "          (out_proj): Linear(in_features=512, out_features=512, bias=True)\n",
      "        )\n",
      "        (linear1): Linear(in_features=512, out_features=1024, bias=True)\n",
      "        (dropout): Dropout(p=0.1, inplace=False)\n",
      "        (linear2): Linear(in_features=1024, out_features=512, bias=True)\n",
      "        (norm1): LayerNorm((512,), eps=1e-05, elementwise_affine=True)\n",
      "        (norm2): LayerNorm((512,), eps=1e-05, elementwise_affine=True)\n",
      "        (dropout1): Dropout(p=0.1, inplace=False)\n",
      "        (dropout2): Dropout(p=0.1, inplace=False)\n",
      "      )\n",
      "      (3): TransformerEncoderLayer(\n",
      "        (self_attn): MultiheadAttention(\n",
      "          (out_proj): Linear(in_features=512, out_features=512, bias=True)\n",
      "        )\n",
      "        (linear1): Linear(in_features=512, out_features=1024, bias=True)\n",
      "        (dropout): Dropout(p=0.1, inplace=False)\n",
      "        (linear2): Linear(in_features=1024, out_features=512, bias=True)\n",
      "        (norm1): LayerNorm((512,), eps=1e-05, elementwise_affine=True)\n",
      "        (norm2): LayerNorm((512,), eps=1e-05, elementwise_affine=True)\n",
      "        (dropout1): Dropout(p=0.1, inplace=False)\n",
      "        (dropout2): Dropout(p=0.1, inplace=False)\n",
      "      )\n",
      "    )\n",
      "    (norm): LayerNorm((512,), eps=1e-05, elementwise_affine=True)\n",
      "  )\n",
      "  (encoding_to_logit): Linear(in_features=512, out_features=1, bias=True)\n",
      "  (loss_fn): MarginRankingLoss()\n",
      ")\n"
     ]
    }
   ],
   "source": [
    "print(model)"
   ]
  },
  {
   "cell_type": "code",
   "execution_count": 18,
   "metadata": {},
   "outputs": [],
   "source": [
    "import pandas"
   ]
  },
  {
   "cell_type": "code",
   "execution_count": 19,
   "metadata": {},
   "outputs": [
    {
     "data": {
      "text/html": [
       "<div>\n",
       "<style scoped>\n",
       "    .dataframe tbody tr th:only-of-type {\n",
       "        vertical-align: middle;\n",
       "    }\n",
       "\n",
       "    .dataframe tbody tr th {\n",
       "        vertical-align: top;\n",
       "    }\n",
       "\n",
       "    .dataframe thead th {\n",
       "        text-align: right;\n",
       "    }\n",
       "</style>\n",
       "<table border=\"1\" class=\"dataframe\">\n",
       "  <thead>\n",
       "    <tr style=\"text-align: right;\">\n",
       "      <th></th>\n",
       "      <th>roc_auc</th>\n",
       "      <th>pr_auc</th>\n",
       "      <th>rr</th>\n",
       "      <th>p_at_10</th>\n",
       "      <th>p_at_100</th>\n",
       "      <th>ap_at_10</th>\n",
       "      <th>ap_at_100</th>\n",
       "    </tr>\n",
       "  </thead>\n",
       "  <tbody>\n",
       "    <tr>\n",
       "      <th>aapp:dsyn</th>\n",
       "      <td>0.752750</td>\n",
       "      <td>0.229522</td>\n",
       "      <td>0.500000</td>\n",
       "      <td>0.7</td>\n",
       "      <td>0.37</td>\n",
       "      <td>0.604252</td>\n",
       "      <td>0.459445</td>\n",
       "    </tr>\n",
       "    <tr>\n",
       "      <th>aapp:gngm</th>\n",
       "      <td>0.747492</td>\n",
       "      <td>0.212106</td>\n",
       "      <td>1.000000</td>\n",
       "      <td>0.2</td>\n",
       "      <td>0.27</td>\n",
       "      <td>0.642857</td>\n",
       "      <td>0.272728</td>\n",
       "    </tr>\n",
       "    <tr>\n",
       "      <th>bpoc:aapp</th>\n",
       "      <td>0.755010</td>\n",
       "      <td>0.215246</td>\n",
       "      <td>1.000000</td>\n",
       "      <td>0.5</td>\n",
       "      <td>0.29</td>\n",
       "      <td>0.644444</td>\n",
       "      <td>0.364908</td>\n",
       "    </tr>\n",
       "    <tr>\n",
       "      <th>gngm:neop</th>\n",
       "      <td>0.708031</td>\n",
       "      <td>0.332809</td>\n",
       "      <td>0.250000</td>\n",
       "      <td>0.4</td>\n",
       "      <td>0.42</td>\n",
       "      <td>0.317262</td>\n",
       "      <td>0.460145</td>\n",
       "    </tr>\n",
       "    <tr>\n",
       "      <th>dsyn:dsyn</th>\n",
       "      <td>0.795387</td>\n",
       "      <td>0.196792</td>\n",
       "      <td>1.000000</td>\n",
       "      <td>0.6</td>\n",
       "      <td>0.31</td>\n",
       "      <td>0.877381</td>\n",
       "      <td>0.537078</td>\n",
       "    </tr>\n",
       "    <tr>\n",
       "      <th>cell:aapp</th>\n",
       "      <td>0.732875</td>\n",
       "      <td>0.213951</td>\n",
       "      <td>1.000000</td>\n",
       "      <td>0.4</td>\n",
       "      <td>0.34</td>\n",
       "      <td>0.600000</td>\n",
       "      <td>0.369473</td>\n",
       "    </tr>\n",
       "    <tr>\n",
       "      <th>gngm:aapp</th>\n",
       "      <td>0.750258</td>\n",
       "      <td>0.235004</td>\n",
       "      <td>1.000000</td>\n",
       "      <td>0.4</td>\n",
       "      <td>0.37</td>\n",
       "      <td>0.527083</td>\n",
       "      <td>0.429077</td>\n",
       "    </tr>\n",
       "    <tr>\n",
       "      <th>dsyn:humn</th>\n",
       "      <td>0.784245</td>\n",
       "      <td>0.210316</td>\n",
       "      <td>1.000000</td>\n",
       "      <td>0.5</td>\n",
       "      <td>0.27</td>\n",
       "      <td>0.696825</td>\n",
       "      <td>0.403617</td>\n",
       "    </tr>\n",
       "    <tr>\n",
       "      <th>gngm:celf</th>\n",
       "      <td>0.671406</td>\n",
       "      <td>0.313398</td>\n",
       "      <td>0.250000</td>\n",
       "      <td>0.2</td>\n",
       "      <td>0.32</td>\n",
       "      <td>0.291667</td>\n",
       "      <td>0.307716</td>\n",
       "    </tr>\n",
       "    <tr>\n",
       "      <th>orch:gngm</th>\n",
       "      <td>0.773530</td>\n",
       "      <td>0.225531</td>\n",
       "      <td>0.333333</td>\n",
       "      <td>0.4</td>\n",
       "      <td>0.31</td>\n",
       "      <td>0.350000</td>\n",
       "      <td>0.291865</td>\n",
       "    </tr>\n",
       "    <tr>\n",
       "      <th>phsu:dsyn</th>\n",
       "      <td>0.755400</td>\n",
       "      <td>0.169406</td>\n",
       "      <td>0.200000</td>\n",
       "      <td>0.4</td>\n",
       "      <td>0.27</td>\n",
       "      <td>0.327083</td>\n",
       "      <td>0.298313</td>\n",
       "    </tr>\n",
       "    <tr>\n",
       "      <th>bacs:aapp</th>\n",
       "      <td>0.760352</td>\n",
       "      <td>0.151321</td>\n",
       "      <td>0.333333</td>\n",
       "      <td>0.2</td>\n",
       "      <td>0.23</td>\n",
       "      <td>0.309524</td>\n",
       "      <td>0.287825</td>\n",
       "    </tr>\n",
       "    <tr>\n",
       "      <th>gngm:cell</th>\n",
       "      <td>0.755802</td>\n",
       "      <td>0.250014</td>\n",
       "      <td>1.000000</td>\n",
       "      <td>0.7</td>\n",
       "      <td>0.36</td>\n",
       "      <td>0.885714</td>\n",
       "      <td>0.506217</td>\n",
       "    </tr>\n",
       "    <tr>\n",
       "      <th>gngm:dsyn</th>\n",
       "      <td>0.760458</td>\n",
       "      <td>0.169297</td>\n",
       "      <td>1.000000</td>\n",
       "      <td>0.4</td>\n",
       "      <td>0.24</td>\n",
       "      <td>0.718254</td>\n",
       "      <td>0.330939</td>\n",
       "    </tr>\n",
       "    <tr>\n",
       "      <th>gngm:gngm</th>\n",
       "      <td>0.760951</td>\n",
       "      <td>0.172761</td>\n",
       "      <td>0.500000</td>\n",
       "      <td>0.2</td>\n",
       "      <td>0.23</td>\n",
       "      <td>0.392857</td>\n",
       "      <td>0.239514</td>\n",
       "    </tr>\n",
       "    <tr>\n",
       "      <th>aapp:neop</th>\n",
       "      <td>0.741783</td>\n",
       "      <td>0.251178</td>\n",
       "      <td>0.250000</td>\n",
       "      <td>0.4</td>\n",
       "      <td>0.30</td>\n",
       "      <td>0.339583</td>\n",
       "      <td>0.321846</td>\n",
       "    </tr>\n",
       "    <tr>\n",
       "      <th>aapp:aapp</th>\n",
       "      <td>0.746430</td>\n",
       "      <td>0.098099</td>\n",
       "      <td>0.111111</td>\n",
       "      <td>0.1</td>\n",
       "      <td>0.13</td>\n",
       "      <td>0.111111</td>\n",
       "      <td>0.146443</td>\n",
       "    </tr>\n",
       "    <tr>\n",
       "      <th>topp:dsyn</th>\n",
       "      <td>0.775594</td>\n",
       "      <td>0.128585</td>\n",
       "      <td>0.166667</td>\n",
       "      <td>0.1</td>\n",
       "      <td>0.14</td>\n",
       "      <td>0.166667</td>\n",
       "      <td>0.127468</td>\n",
       "    </tr>\n",
       "    <tr>\n",
       "      <th>bacs:gngm</th>\n",
       "      <td>0.720235</td>\n",
       "      <td>0.169954</td>\n",
       "      <td>0.333333</td>\n",
       "      <td>0.3</td>\n",
       "      <td>0.20</td>\n",
       "      <td>0.355556</td>\n",
       "      <td>0.264020</td>\n",
       "    </tr>\n",
       "    <tr>\n",
       "      <th>aapp:cell</th>\n",
       "      <td>0.749172</td>\n",
       "      <td>0.235096</td>\n",
       "      <td>1.000000</td>\n",
       "      <td>0.3</td>\n",
       "      <td>0.26</td>\n",
       "      <td>0.611111</td>\n",
       "      <td>0.376422</td>\n",
       "    </tr>\n",
       "    <tr>\n",
       "      <th>moliere</th>\n",
       "      <td>0.970065</td>\n",
       "      <td>0.964521</td>\n",
       "      <td>1.000000</td>\n",
       "      <td>1.0</td>\n",
       "      <td>0.99</td>\n",
       "      <td>1.000000</td>\n",
       "      <td>0.993247</td>\n",
       "    </tr>\n",
       "  </tbody>\n",
       "</table>\n",
       "</div>"
      ],
      "text/plain": [
       "            roc_auc    pr_auc        rr  p_at_10  p_at_100  ap_at_10  \\\n",
       "aapp:dsyn  0.752750  0.229522  0.500000      0.7      0.37  0.604252   \n",
       "aapp:gngm  0.747492  0.212106  1.000000      0.2      0.27  0.642857   \n",
       "bpoc:aapp  0.755010  0.215246  1.000000      0.5      0.29  0.644444   \n",
       "gngm:neop  0.708031  0.332809  0.250000      0.4      0.42  0.317262   \n",
       "dsyn:dsyn  0.795387  0.196792  1.000000      0.6      0.31  0.877381   \n",
       "cell:aapp  0.732875  0.213951  1.000000      0.4      0.34  0.600000   \n",
       "gngm:aapp  0.750258  0.235004  1.000000      0.4      0.37  0.527083   \n",
       "dsyn:humn  0.784245  0.210316  1.000000      0.5      0.27  0.696825   \n",
       "gngm:celf  0.671406  0.313398  0.250000      0.2      0.32  0.291667   \n",
       "orch:gngm  0.773530  0.225531  0.333333      0.4      0.31  0.350000   \n",
       "phsu:dsyn  0.755400  0.169406  0.200000      0.4      0.27  0.327083   \n",
       "bacs:aapp  0.760352  0.151321  0.333333      0.2      0.23  0.309524   \n",
       "gngm:cell  0.755802  0.250014  1.000000      0.7      0.36  0.885714   \n",
       "gngm:dsyn  0.760458  0.169297  1.000000      0.4      0.24  0.718254   \n",
       "gngm:gngm  0.760951  0.172761  0.500000      0.2      0.23  0.392857   \n",
       "aapp:neop  0.741783  0.251178  0.250000      0.4      0.30  0.339583   \n",
       "aapp:aapp  0.746430  0.098099  0.111111      0.1      0.13  0.111111   \n",
       "topp:dsyn  0.775594  0.128585  0.166667      0.1      0.14  0.166667   \n",
       "bacs:gngm  0.720235  0.169954  0.333333      0.3      0.20  0.355556   \n",
       "aapp:cell  0.749172  0.235096  1.000000      0.3      0.26  0.611111   \n",
       "moliere    0.970065  0.964521  1.000000      1.0      0.99  1.000000   \n",
       "\n",
       "           ap_at_100  \n",
       "aapp:dsyn   0.459445  \n",
       "aapp:gngm   0.272728  \n",
       "bpoc:aapp   0.364908  \n",
       "gngm:neop   0.460145  \n",
       "dsyn:dsyn   0.537078  \n",
       "cell:aapp   0.369473  \n",
       "gngm:aapp   0.429077  \n",
       "dsyn:humn   0.403617  \n",
       "gngm:celf   0.307716  \n",
       "orch:gngm   0.291865  \n",
       "phsu:dsyn   0.298313  \n",
       "bacs:aapp   0.287825  \n",
       "gngm:cell   0.506217  \n",
       "gngm:dsyn   0.330939  \n",
       "gngm:gngm   0.239514  \n",
       "aapp:neop   0.321846  \n",
       "aapp:aapp   0.146443  \n",
       "topp:dsyn   0.127468  \n",
       "bacs:gngm   0.264020  \n",
       "aapp:cell   0.376422  \n",
       "moliere     0.993247  "
      ]
     },
     "execution_count": 19,
     "metadata": {},
     "output_type": "execute_result"
    }
   ],
   "source": [
    "pandas.DataFrame(query_set2metrics).transpose()"
   ]
  },
  {
   "cell_type": "code",
   "execution_count": null,
   "metadata": {},
   "outputs": [],
   "source": []
  }
 ],
 "metadata": {
  "kernelspec": {
   "display_name": "agatha",
   "language": "python",
   "name": "agatha"
  },
  "language_info": {
   "codemirror_mode": {
    "name": "ipython",
    "version": 3
   },
   "file_extension": ".py",
   "mimetype": "text/x-python",
   "name": "python",
   "nbconvert_exporter": "python",
   "pygments_lexer": "ipython3",
   "version": "3.8.1"
  }
 },
 "nbformat": 4,
 "nbformat_minor": 2
}
